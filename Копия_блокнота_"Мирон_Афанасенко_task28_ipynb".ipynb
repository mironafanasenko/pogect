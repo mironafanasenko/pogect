{
  "nbformat": 4,
  "nbformat_minor": 0,
  "metadata": {
    "colab": {
      "provenance": [],
      "include_colab_link": true
    },
    "kernelspec": {
      "display_name": "Python 3 (ipykernel)",
      "language": "python",
      "name": "python3"
    },
    "language_info": {
      "codemirror_mode": {
        "name": "ipython",
        "version": 3
      },
      "file_extension": ".py",
      "mimetype": "text/x-python",
      "name": "python",
      "nbconvert_exporter": "python",
      "pygments_lexer": "ipython3",
      "version": "3.9.6"
    }
  },
  "cells": [
    {
      "cell_type": "markdown",
      "metadata": {
        "id": "view-in-github",
        "colab_type": "text"
      },
      "source": [
        "<a href=\"https://colab.research.google.com/github/mironafanasenko/pogect/blob/main/%D0%9A%D0%BE%D0%BF%D0%B8%D1%8F_%D0%B1%D0%BB%D0%BE%D0%BA%D0%BD%D0%BE%D1%82%D0%B0_%22%D0%9C%D0%B8%D1%80%D0%BE%D0%BD_%D0%90%D1%84%D0%B0%D0%BD%D0%B0%D1%81%D0%B5%D0%BD%D0%BA%D0%BE_task28_ipynb%22.ipynb\" target=\"_parent\"><img src=\"https://colab.research.google.com/assets/colab-badge.svg\" alt=\"Open In Colab\"/></a>"
      ]
    },
    {
      "cell_type": "markdown",
      "metadata": {
        "id": "R4JgDAcNbmku"
      },
      "source": [
        "\n",
        "# Занятие 28. Кластеризация. Решение задач.\n",
        "\n"
      ]
    },
    {
      "cell_type": "markdown",
      "source": [
        "Теоретический материал с описанием алгоритмов и задач кластеризации размещён в презентации к занятию."
      ],
      "metadata": {
        "id": "5uNygzcCzPjO"
      }
    },
    {
      "cell_type": "code",
      "source": [
        "import pandas as pd\n",
        "import numpy as np\n",
        "import matplotlib.pyplot as plt\n",
        "from sklearn.metrics import mean_squared_error \n",
        "from sklearn.metrics.pairwise import manhattan_distances\n",
        "from sklearn.metrics.pairwise import euclidean_distances\n",
        "from sklearn.metrics.pairwise import nan_euclidean_distances\n",
        "from sklearn.preprocessing import StandardScaler\n",
        "from sklearn.preprocessing import MinMaxScaler\n",
        "from sklearn.preprocessing import OrdinalEncoder\n",
        "from sklearn.model_selection import train_test_split\n",
        "from sklearn.linear_model import LinearRegression\n"
      ],
      "metadata": {
        "id": "cftpqjD1s2pb"
      },
      "execution_count": null,
      "outputs": []
    },
    {
      "cell_type": "markdown",
      "source": [
        "## Использование метрик для выявления **похожих** объектов и заполнения пропущенных данных"
      ],
      "metadata": {
        "id": "uTk8Jn1BeaBM"
      }
    },
    {
      "cell_type": "markdown",
      "source": [
        "На прошлом занятии мы разобрали алгоритм заполнения пропущенных данных на основе различных метрик. "
      ],
      "metadata": {
        "id": "xKsG647MpACZ"
      }
    },
    {
      "cell_type": "code",
      "source": [
        "df = pd.read_csv(\"imdb.csv\")"
      ],
      "metadata": {
        "id": "MMjTE5FwtfZL"
      },
      "execution_count": null,
      "outputs": []
    },
    {
      "cell_type": "markdown",
      "source": [
        "Заменим пропуски на `np.nan`."
      ],
      "metadata": {
        "id": "7eaWrGjPbp94"
      }
    },
    {
      "cell_type": "code",
      "source": [
        "df = df.replace('-', np.nan)"
      ],
      "metadata": {
        "id": "MCkZUktCt29x"
      },
      "execution_count": null,
      "outputs": []
    },
    {
      "cell_type": "code",
      "source": [
        "df.info()"
      ],
      "metadata": {
        "id": "bqWieQX-vNa6",
        "colab": {
          "base_uri": "https://localhost:8080/"
        },
        "outputId": "a66e5431-5ed4-4dd9-b702-c10f149b9f06"
      },
      "execution_count": null,
      "outputs": [
        {
          "output_type": "stream",
          "name": "stdout",
          "text": [
            "<class 'pandas.core.frame.DataFrame'>\n",
            "RangeIndex: 12338 entries, 0 to 12337\n",
            "Data columns (total 5 columns):\n",
            " #   Column  Non-Null Count  Dtype  \n",
            "---  ------  --------------  -----  \n",
            " 0   NAME    12338 non-null  object \n",
            " 1   RATING  12338 non-null  float64\n",
            " 2   VOTES   12338 non-null  int64  \n",
            " 3   GENRE   12338 non-null  object \n",
            " 4   YEAR    12338 non-null  int64  \n",
            "dtypes: float64(1), int64(2), object(2)\n",
            "memory usage: 482.1+ KB\n"
          ]
        }
      ]
    },
    {
      "cell_type": "code",
      "source": [
        "col = ['Date', 'Raiting',]"
      ],
      "metadata": {
        "id": "5j_KjdQFxuhE"
      },
      "execution_count": null,
      "outputs": []
    },
    {
      "cell_type": "code",
      "source": [
        "enc = OrdinalEncoder()"
      ],
      "metadata": {
        "id": "PMBS0Jg9wO5o"
      },
      "execution_count": null,
      "outputs": []
    },
    {
      "cell_type": "code",
      "source": [
        "T = np.array([['NAME', 'RATING'],\n",
        "              ['VOTES', 'YEAR']])"
      ],
      "metadata": {
        "id": "n2ETrDvoym56"
      },
      "execution_count": null,
      "outputs": []
    },
    {
      "cell_type": "code",
      "source": [
        "enc.fit(T)"
      ],
      "metadata": {
        "colab": {
          "base_uri": "https://localhost:8080/",
          "height": 76
        },
        "id": "Dk-rO-6azE45",
        "outputId": "011ab442-2975-4b5f-c97d-eda5763300db"
      },
      "execution_count": null,
      "outputs": [
        {
          "output_type": "execute_result",
          "data": {
            "text/plain": [
              "OrdinalEncoder()"
            ],
            "text/html": [
              "<style>#sk-container-id-2 {color: black;background-color: white;}#sk-container-id-2 pre{padding: 0;}#sk-container-id-2 div.sk-toggleable {background-color: white;}#sk-container-id-2 label.sk-toggleable__label {cursor: pointer;display: block;width: 100%;margin-bottom: 0;padding: 0.3em;box-sizing: border-box;text-align: center;}#sk-container-id-2 label.sk-toggleable__label-arrow:before {content: \"▸\";float: left;margin-right: 0.25em;color: #696969;}#sk-container-id-2 label.sk-toggleable__label-arrow:hover:before {color: black;}#sk-container-id-2 div.sk-estimator:hover label.sk-toggleable__label-arrow:before {color: black;}#sk-container-id-2 div.sk-toggleable__content {max-height: 0;max-width: 0;overflow: hidden;text-align: left;background-color: #f0f8ff;}#sk-container-id-2 div.sk-toggleable__content pre {margin: 0.2em;color: black;border-radius: 0.25em;background-color: #f0f8ff;}#sk-container-id-2 input.sk-toggleable__control:checked~div.sk-toggleable__content {max-height: 200px;max-width: 100%;overflow: auto;}#sk-container-id-2 input.sk-toggleable__control:checked~label.sk-toggleable__label-arrow:before {content: \"▾\";}#sk-container-id-2 div.sk-estimator input.sk-toggleable__control:checked~label.sk-toggleable__label {background-color: #d4ebff;}#sk-container-id-2 div.sk-label input.sk-toggleable__control:checked~label.sk-toggleable__label {background-color: #d4ebff;}#sk-container-id-2 input.sk-hidden--visually {border: 0;clip: rect(1px 1px 1px 1px);clip: rect(1px, 1px, 1px, 1px);height: 1px;margin: -1px;overflow: hidden;padding: 0;position: absolute;width: 1px;}#sk-container-id-2 div.sk-estimator {font-family: monospace;background-color: #f0f8ff;border: 1px dotted black;border-radius: 0.25em;box-sizing: border-box;margin-bottom: 0.5em;}#sk-container-id-2 div.sk-estimator:hover {background-color: #d4ebff;}#sk-container-id-2 div.sk-parallel-item::after {content: \"\";width: 100%;border-bottom: 1px solid gray;flex-grow: 1;}#sk-container-id-2 div.sk-label:hover label.sk-toggleable__label {background-color: #d4ebff;}#sk-container-id-2 div.sk-serial::before {content: \"\";position: absolute;border-left: 1px solid gray;box-sizing: border-box;top: 0;bottom: 0;left: 50%;z-index: 0;}#sk-container-id-2 div.sk-serial {display: flex;flex-direction: column;align-items: center;background-color: white;padding-right: 0.2em;padding-left: 0.2em;position: relative;}#sk-container-id-2 div.sk-item {position: relative;z-index: 1;}#sk-container-id-2 div.sk-parallel {display: flex;align-items: stretch;justify-content: center;background-color: white;position: relative;}#sk-container-id-2 div.sk-item::before, #sk-container-id-2 div.sk-parallel-item::before {content: \"\";position: absolute;border-left: 1px solid gray;box-sizing: border-box;top: 0;bottom: 0;left: 50%;z-index: -1;}#sk-container-id-2 div.sk-parallel-item {display: flex;flex-direction: column;z-index: 1;position: relative;background-color: white;}#sk-container-id-2 div.sk-parallel-item:first-child::after {align-self: flex-end;width: 50%;}#sk-container-id-2 div.sk-parallel-item:last-child::after {align-self: flex-start;width: 50%;}#sk-container-id-2 div.sk-parallel-item:only-child::after {width: 0;}#sk-container-id-2 div.sk-dashed-wrapped {border: 1px dashed gray;margin: 0 0.4em 0.5em 0.4em;box-sizing: border-box;padding-bottom: 0.4em;background-color: white;}#sk-container-id-2 div.sk-label label {font-family: monospace;font-weight: bold;display: inline-block;line-height: 1.2em;}#sk-container-id-2 div.sk-label-container {text-align: center;}#sk-container-id-2 div.sk-container {/* jupyter's `normalize.less` sets `[hidden] { display: none; }` but bootstrap.min.css set `[hidden] { display: none !important; }` so we also need the `!important` here to be able to override the default hidden behavior on the sphinx rendered scikit-learn.org. See: https://github.com/scikit-learn/scikit-learn/issues/21755 */display: inline-block !important;position: relative;}#sk-container-id-2 div.sk-text-repr-fallback {display: none;}</style><div id=\"sk-container-id-2\" class=\"sk-top-container\"><div class=\"sk-text-repr-fallback\"><pre>OrdinalEncoder()</pre><b>In a Jupyter environment, please rerun this cell to show the HTML representation or trust the notebook. <br />On GitHub, the HTML representation is unable to render, please try loading this page with nbviewer.org.</b></div><div class=\"sk-container\" hidden><div class=\"sk-item\"><div class=\"sk-estimator sk-toggleable\"><input class=\"sk-toggleable__control sk-hidden--visually\" id=\"sk-estimator-id-2\" type=\"checkbox\" checked><label for=\"sk-estimator-id-2\" class=\"sk-toggleable__label sk-toggleable__label-arrow\">OrdinalEncoder</label><div class=\"sk-toggleable__content\"><pre>OrdinalEncoder()</pre></div></div></div></div></div>"
            ]
          },
          "metadata": {},
          "execution_count": 50
        }
      ]
    },
    {
      "cell_type": "code",
      "source": [
        "enc.transform(T)"
      ],
      "metadata": {
        "colab": {
          "base_uri": "https://localhost:8080/"
        },
        "id": "LcMZ7BZXzRHs",
        "outputId": "a62be486-f67b-4a17-a4d0-5c56151f656b"
      },
      "execution_count": null,
      "outputs": [
        {
          "output_type": "execute_result",
          "data": {
            "text/plain": [
              "array([[0., 0.],\n",
              "       [1., 1.]])"
            ]
          },
          "metadata": {},
          "execution_count": 24
        }
      ]
    },
    {
      "cell_type": "code",
      "source": [
        "df.head()"
      ],
      "metadata": {
        "colab": {
          "base_uri": "https://localhost:8080/",
          "height": 206
        },
        "id": "wwxD2UyF0jmk",
        "outputId": "1571a7f7-795c-45d7-9fc4-7d02fcb976d9"
      },
      "execution_count": null,
      "outputs": [
        {
          "output_type": "execute_result",
          "data": {
            "text/plain": [
              "                                 NAME  RATING    VOTES  \\\n",
              "0  отверженные 25ая годовщина мюзикла     8.8     4660   \n",
              "1                              начало     8.8  1858608   \n",
              "2                      душа и персона     8.6     2856   \n",
              "3                        плохой герой     8.4     1200   \n",
              "4                      жизненный путь     8.4     2113   \n",
              "\n",
              "                       GENRE  YEAR  \n",
              "0      Drama, Music, Musical  2010  \n",
              "1  Action, Adventure, Sci-Fi  2010  \n",
              "2    Action, Crime, Thriller  2010  \n",
              "3       Comedy, Crime, Drama  2010  \n",
              "4              Action, Drama  2010  "
            ],
            "text/html": [
              "\n",
              "  <div id=\"df-7a8e6c13-0e00-4be4-89f1-c2e5115328f7\">\n",
              "    <div class=\"colab-df-container\">\n",
              "      <div>\n",
              "<style scoped>\n",
              "    .dataframe tbody tr th:only-of-type {\n",
              "        vertical-align: middle;\n",
              "    }\n",
              "\n",
              "    .dataframe tbody tr th {\n",
              "        vertical-align: top;\n",
              "    }\n",
              "\n",
              "    .dataframe thead th {\n",
              "        text-align: right;\n",
              "    }\n",
              "</style>\n",
              "<table border=\"1\" class=\"dataframe\">\n",
              "  <thead>\n",
              "    <tr style=\"text-align: right;\">\n",
              "      <th></th>\n",
              "      <th>NAME</th>\n",
              "      <th>RATING</th>\n",
              "      <th>VOTES</th>\n",
              "      <th>GENRE</th>\n",
              "      <th>YEAR</th>\n",
              "    </tr>\n",
              "  </thead>\n",
              "  <tbody>\n",
              "    <tr>\n",
              "      <th>0</th>\n",
              "      <td>отверженные 25ая годовщина мюзикла</td>\n",
              "      <td>8.8</td>\n",
              "      <td>4660</td>\n",
              "      <td>Drama, Music, Musical</td>\n",
              "      <td>2010</td>\n",
              "    </tr>\n",
              "    <tr>\n",
              "      <th>1</th>\n",
              "      <td>начало</td>\n",
              "      <td>8.8</td>\n",
              "      <td>1858608</td>\n",
              "      <td>Action, Adventure, Sci-Fi</td>\n",
              "      <td>2010</td>\n",
              "    </tr>\n",
              "    <tr>\n",
              "      <th>2</th>\n",
              "      <td>душа и персона</td>\n",
              "      <td>8.6</td>\n",
              "      <td>2856</td>\n",
              "      <td>Action, Crime, Thriller</td>\n",
              "      <td>2010</td>\n",
              "    </tr>\n",
              "    <tr>\n",
              "      <th>3</th>\n",
              "      <td>плохой герой</td>\n",
              "      <td>8.4</td>\n",
              "      <td>1200</td>\n",
              "      <td>Comedy, Crime, Drama</td>\n",
              "      <td>2010</td>\n",
              "    </tr>\n",
              "    <tr>\n",
              "      <th>4</th>\n",
              "      <td>жизненный путь</td>\n",
              "      <td>8.4</td>\n",
              "      <td>2113</td>\n",
              "      <td>Action, Drama</td>\n",
              "      <td>2010</td>\n",
              "    </tr>\n",
              "  </tbody>\n",
              "</table>\n",
              "</div>\n",
              "      <button class=\"colab-df-convert\" onclick=\"convertToInteractive('df-7a8e6c13-0e00-4be4-89f1-c2e5115328f7')\"\n",
              "              title=\"Convert this dataframe to an interactive table.\"\n",
              "              style=\"display:none;\">\n",
              "        \n",
              "  <svg xmlns=\"http://www.w3.org/2000/svg\" height=\"24px\"viewBox=\"0 0 24 24\"\n",
              "       width=\"24px\">\n",
              "    <path d=\"M0 0h24v24H0V0z\" fill=\"none\"/>\n",
              "    <path d=\"M18.56 5.44l.94 2.06.94-2.06 2.06-.94-2.06-.94-.94-2.06-.94 2.06-2.06.94zm-11 1L8.5 8.5l.94-2.06 2.06-.94-2.06-.94L8.5 2.5l-.94 2.06-2.06.94zm10 10l.94 2.06.94-2.06 2.06-.94-2.06-.94-.94-2.06-.94 2.06-2.06.94z\"/><path d=\"M17.41 7.96l-1.37-1.37c-.4-.4-.92-.59-1.43-.59-.52 0-1.04.2-1.43.59L10.3 9.45l-7.72 7.72c-.78.78-.78 2.05 0 2.83L4 21.41c.39.39.9.59 1.41.59.51 0 1.02-.2 1.41-.59l7.78-7.78 2.81-2.81c.8-.78.8-2.07 0-2.86zM5.41 20L4 18.59l7.72-7.72 1.47 1.35L5.41 20z\"/>\n",
              "  </svg>\n",
              "      </button>\n",
              "      \n",
              "  <style>\n",
              "    .colab-df-container {\n",
              "      display:flex;\n",
              "      flex-wrap:wrap;\n",
              "      gap: 12px;\n",
              "    }\n",
              "\n",
              "    .colab-df-convert {\n",
              "      background-color: #E8F0FE;\n",
              "      border: none;\n",
              "      border-radius: 50%;\n",
              "      cursor: pointer;\n",
              "      display: none;\n",
              "      fill: #1967D2;\n",
              "      height: 32px;\n",
              "      padding: 0 0 0 0;\n",
              "      width: 32px;\n",
              "    }\n",
              "\n",
              "    .colab-df-convert:hover {\n",
              "      background-color: #E2EBFA;\n",
              "      box-shadow: 0px 1px 2px rgba(60, 64, 67, 0.3), 0px 1px 3px 1px rgba(60, 64, 67, 0.15);\n",
              "      fill: #174EA6;\n",
              "    }\n",
              "\n",
              "    [theme=dark] .colab-df-convert {\n",
              "      background-color: #3B4455;\n",
              "      fill: #D2E3FC;\n",
              "    }\n",
              "\n",
              "    [theme=dark] .colab-df-convert:hover {\n",
              "      background-color: #434B5C;\n",
              "      box-shadow: 0px 1px 3px 1px rgba(0, 0, 0, 0.15);\n",
              "      filter: drop-shadow(0px 1px 2px rgba(0, 0, 0, 0.3));\n",
              "      fill: #FFFFFF;\n",
              "    }\n",
              "  </style>\n",
              "\n",
              "      <script>\n",
              "        const buttonEl =\n",
              "          document.querySelector('#df-7a8e6c13-0e00-4be4-89f1-c2e5115328f7 button.colab-df-convert');\n",
              "        buttonEl.style.display =\n",
              "          google.colab.kernel.accessAllowed ? 'block' : 'none';\n",
              "\n",
              "        async function convertToInteractive(key) {\n",
              "          const element = document.querySelector('#df-7a8e6c13-0e00-4be4-89f1-c2e5115328f7');\n",
              "          const dataTable =\n",
              "            await google.colab.kernel.invokeFunction('convertToInteractive',\n",
              "                                                     [key], {});\n",
              "          if (!dataTable) return;\n",
              "\n",
              "          const docLinkHtml = 'Like what you see? Visit the ' +\n",
              "            '<a target=\"_blank\" href=https://colab.research.google.com/notebooks/data_table.ipynb>data table notebook</a>'\n",
              "            + ' to learn more about interactive tables.';\n",
              "          element.innerHTML = '';\n",
              "          dataTable['output_type'] = 'display_data';\n",
              "          await google.colab.output.renderOutput(dataTable, element);\n",
              "          const docLink = document.createElement('div');\n",
              "          docLink.innerHTML = docLinkHtml;\n",
              "          element.appendChild(docLink);\n",
              "        }\n",
              "      </script>\n",
              "    </div>\n",
              "  </div>\n",
              "  "
            ]
          },
          "metadata": {},
          "execution_count": 63
        }
      ]
    },
    {
      "cell_type": "code",
      "source": [
        "df[\"RATING\"]"
      ],
      "metadata": {
        "colab": {
          "base_uri": "https://localhost:8080/"
        },
        "id": "L1zCSlGMFawP",
        "outputId": "b8f77f58-6498-406f-f855-bd696c3d51fd"
      },
      "execution_count": null,
      "outputs": [
        {
          "output_type": "execute_result",
          "data": {
            "text/plain": [
              "0        8.8\n",
              "1        8.8\n",
              "2        8.6\n",
              "3        8.4\n",
              "4        8.4\n",
              "        ... \n",
              "12333    1.7\n",
              "12334    1.7\n",
              "12335    1.2\n",
              "12336    1.2\n",
              "12337    1.0\n",
              "Name: RATING, Length: 12338, dtype: float64"
            ]
          },
          "metadata": {},
          "execution_count": 51
        }
      ]
    },
    {
      "cell_type": "code",
      "source": [
        "a = df[\"RATING\"]\n",
        "b = df[\"VOTES\"]"
      ],
      "metadata": {
        "id": "e-vHwVG2L2Jz"
      },
      "execution_count": null,
      "outputs": []
    },
    {
      "cell_type": "code",
      "source": [
        "x = a\n",
        "y = b"
      ],
      "metadata": {
        "id": "NbA4LRwCL40h"
      },
      "execution_count": null,
      "outputs": []
    },
    {
      "cell_type": "code",
      "source": [
        "plt.title(\"Зависимость рейтинга от популярности\")\n",
        "plt.xlabel(\"Популярность\")\n",
        "plt.ylabel(\"Рейтинг\")\n",
        "plt.plot(x, y, color =\"red\")\n",
        "plt.show()"
      ],
      "metadata": {
        "colab": {
          "base_uri": "https://localhost:8080/",
          "height": 472
        },
        "id": "WsqvapShM__G",
        "outputId": "c1bef836-30ed-4d5b-f5bf-9db5ff53a6c7"
      },
      "execution_count": null,
      "outputs": [
        {
          "output_type": "display_data",
          "data": {
            "text/plain": [
              "<Figure size 640x480 with 1 Axes>"
            ],
            "image/png": "[encoded data removed]"
          },
          "metadata": {}
        }
      ]
    },
    {
      "cell_type": "code",
      "source": [
        "a = df[\"RATING\"]\n",
        "b = df[\"YEAR\"]\n",
        "x = a\n",
        "y = b\n",
        "plt.title(\"Зависимость рейтинга от популярности\")\n",
        "plt.xlabel(\"Год\")\n",
        "plt.ylabel(\"Рейтинг\")\n",
        "plt.plot(y, x, color =\"red\")\n",
        "plt.show()"
      ],
      "metadata": {
        "colab": {
          "base_uri": "https://localhost:8080/",
          "height": 472
        },
        "id": "5s84Rp3r1fmt",
        "outputId": "29ef2cf8-4c7b-4706-85a2-48e9833b1275"
      },
      "execution_count": null,
      "outputs": [
        {
          "output_type": "display_data",
          "data": {
            "text/plain": [
              "<Figure size 640x480 with 1 Axes>"
            ],
            "image/png": "[encoded data removed]"
          },
          "metadata": {}
        }
      ]
    },
    {
      "cell_type": "code",
      "source": [
        "a = df[\"VOTES\"]\n",
        "b = df[\"YEAR\"]\n",
        "x = a\n",
        "y = b\n",
        "plt.title(\"Зависимость общей популярности от года\")\n",
        "plt.xlabel(\"Год\")\n",
        "plt.ylabel(\"Общая популярность\")\n",
        "plt.plot(y, x, color =\"red\")\n",
        "plt.show()"
      ],
      "metadata": {
        "colab": {
          "base_uri": "https://localhost:8080/",
          "height": 472
        },
        "id": "c5BW6HPvnWHy",
        "outputId": "80a85ec9-49c9-4cb4-be5a-0de53d607240"
      },
      "execution_count": null,
      "outputs": [
        {
          "output_type": "display_data",
          "data": {
            "text/plain": [
              "<Figure size 640x480 with 1 Axes>"
            ],
            "image/png": "[encoded data removed]"
          },
          "metadata": {}
        }
      ]
    },
    {
      "cell_type": "code",
      "source": [
        "X = df[\"YEAR\"]\n",
        "Y = df[\"VOTES\"]\n",
        "Z = df[\"RATING\"]\n",
        "\n",
        "fig = plt.figure()\n",
        "\n",
        "ax = plt.axes(projection='3d')\n",
        "ax.plot3D(Z, X, Y, 'green')\n",
        "ax.set_title('Общий вывод')\n",
        "plt.show()"
      ],
      "metadata": {
        "colab": {
          "base_uri": "https://localhost:8080/",
          "height": 430
        },
        "id": "qEgvjXT03Mir",
        "outputId": "a650e93e-3fdd-4160-e1fd-13272d1f4c7b"
      },
      "execution_count": null,
      "outputs": [
        {
          "output_type": "display_data",
          "data": {
            "text/plain": [
              "<Figure size 640x480 with 1 Axes>"
            ],
            "image/png": "[encoded data removed]"
          },
          "metadata": {}
        }
      ]
    },
    {
      "cell_type": "code",
      "source": [],
      "metadata": {
        "id": "Ga0E1EYqGf74"
      },
      "execution_count": null,
      "outputs": []
    },
    {
      "cell_type": "code",
      "source": [
        "a = df[\"YEAR\"]"
      ],
      "metadata": {
        "id": "b6Le_aGnF0Zf"
      },
      "execution_count": null,
      "outputs": []
    },
    {
      "cell_type": "code",
      "source": [
        "a"
      ],
      "metadata": {
        "colab": {
          "base_uri": "https://localhost:8080/"
        },
        "id": "S-2qDd6mGLhW",
        "outputId": "c31f77e9-55ac-4d03-f6ed-ce7ae210a4ef"
      },
      "execution_count": null,
      "outputs": [
        {
          "output_type": "execute_result",
          "data": {
            "text/plain": [
              "0        2010\n",
              "1        2010\n",
              "2        2010\n",
              "3        2010\n",
              "4        2010\n",
              "         ... \n",
              "12333    2018\n",
              "12334    2018\n",
              "12335    2018\n",
              "12336    2018\n",
              "12337    2018\n",
              "Name: YEAR, Length: 12338, dtype: int64"
            ]
          },
          "metadata": {},
          "execution_count": 28
        }
      ]
    },
    {
      "cell_type": "code",
      "source": [],
      "metadata": {
        "colab": {
          "base_uri": "https://localhost:8080/"
        },
        "id": "MC-y8056GHaD",
        "outputId": "0ea43fd2-a2c8-4cfb-bb4f-c8841958e550"
      },
      "execution_count": null,
      "outputs": [
        {
          "output_type": "execute_result",
          "data": {
            "text/plain": [
              "2010"
            ]
          },
          "metadata": {},
          "execution_count": 29
        }
      ]
    },
    {
      "cell_type": "markdown",
      "source": [
        "##Масштабирование данных"
      ],
      "metadata": {
        "id": "pvXHEjVX0Jk4"
      }
    },
    {
      "cell_type": "markdown",
      "source": [
        "Мы использовали собственные функции для нормализации (масштабирования) данных. Теперь используем классы, объявленные в `sklearn.preprocessing`."
      ],
      "metadata": {
        "id": "QlnEolQvLM-b"
      }
    },
    {
      "cell_type": "markdown",
      "source": [
        "###StandardScaler() "
      ],
      "metadata": {
        "id": "L3URTMuzLl91"
      }
    },
    {
      "cell_type": "code",
      "source": [
        "A = np.array([[10, 100, 1], \n",
        "              [50, 950, 0.5], \n",
        "              [99, 290, 0.2]])"
      ],
      "metadata": {
        "id": "wj-Ndkw511vf"
      },
      "execution_count": null,
      "outputs": []
    },
    {
      "cell_type": "code",
      "source": [
        "scaler = StandardScaler()\n",
        "A_scaled = scaler.fit_transform(A)\n"
      ],
      "metadata": {
        "id": "FklIlyB50nGc"
      },
      "execution_count": null,
      "outputs": []
    },
    {
      "cell_type": "code",
      "source": [
        "A_scaled"
      ],
      "metadata": {
        "colab": {
          "base_uri": "https://localhost:8080/"
        },
        "id": "PWIfOWgN4x_4",
        "outputId": "90877317-5e8f-440b-f530-986b30aadcc8"
      },
      "execution_count": null,
      "outputs": [
        {
          "output_type": "execute_result",
          "data": {
            "text/plain": [
              "array([[-1.18144947, -0.95168847,  1.31319831],\n",
              "       [-0.08242671,  1.38177845, -0.20203051],\n",
              "       [ 1.26387618, -0.43008998, -1.1111678 ]])"
            ]
          },
          "metadata": {},
          "execution_count": 43
        }
      ]
    },
    {
      "cell_type": "code",
      "source": [],
      "metadata": {
        "id": "TEj9NFzk4x6W"
      },
      "execution_count": null,
      "outputs": []
    },
    {
      "cell_type": "markdown",
      "source": [
        "###MinMaxScaler()"
      ],
      "metadata": {
        "id": "ty3RtBW7LspB"
      }
    },
    {
      "cell_type": "code",
      "source": [
        "scaler = MinMaxScaler()\n",
        "A_scaled = scaler.fit_transform(A)"
      ],
      "metadata": {
        "id": "gXI10LhGcCwF"
      },
      "execution_count": null,
      "outputs": []
    },
    {
      "cell_type": "code",
      "source": [
        "A_scaled"
      ],
      "metadata": {
        "colab": {
          "base_uri": "https://localhost:8080/"
        },
        "id": "hRNaO2PK5XtG",
        "outputId": "7150d007-e393-41c2-ac5d-274813900130"
      },
      "execution_count": null,
      "outputs": [
        {
          "output_type": "execute_result",
          "data": {
            "text/plain": [
              "array([[0.        , 0.        , 1.        ],\n",
              "       [0.4494382 , 1.        , 0.375     ],\n",
              "       [1.        , 0.22352941, 0.        ]])"
            ]
          },
          "metadata": {},
          "execution_count": 45
        }
      ]
    },
    {
      "cell_type": "markdown",
      "source": [
        "Используем штатную нормализацию данных - MinMaxScaler() для набора данных с рейтингом ВУЗов. "
      ],
      "metadata": {
        "id": "_I8S8H59L6kS"
      }
    },
    {
      "cell_type": "code",
      "source": [
        "X = df.values"
      ],
      "metadata": {
        "id": "9Of27oKi6RD4"
      },
      "execution_count": null,
      "outputs": []
    },
    {
      "cell_type": "code",
      "source": [
        "X"
      ],
      "metadata": {
        "colab": {
          "base_uri": "https://localhost:8080/"
        },
        "id": "2nXx2e_38TKH",
        "outputId": "47dfc183-dd7a-4031-8336-7a69f35997df"
      },
      "execution_count": null,
      "outputs": [
        {
          "output_type": "execute_result",
          "data": {
            "text/plain": [
              "array([[89.0, 1, '2', '1', '1', '1'],\n",
              "       [89.0, 2, '1', '10', '2', '5'],\n",
              "       [89.0, 3, '9', '3', '3', '2'],\n",
              "       ...,\n",
              "       [34.0, 68, '505', '1035', nan, '1942'],\n",
              "       [88.0, 61, nan, nan, nan, '1933'],\n",
              "       [62.0, 11, nan, nan, nan, '1934']], dtype=object)"
            ]
          },
          "metadata": {},
          "execution_count": 47
        }
      ]
    },
    {
      "cell_type": "code",
      "source": [
        "X.shape"
      ],
      "metadata": {
        "colab": {
          "base_uri": "https://localhost:8080/"
        },
        "id": "8qE-KQPf6U_c",
        "outputId": "b2c8a253-fdab-48d0-8697-a762e91ddfbf"
      },
      "execution_count": null,
      "outputs": [
        {
          "output_type": "execute_result",
          "data": {
            "text/plain": [
              "(2000, 6)"
            ]
          },
          "metadata": {},
          "execution_count": 48
        }
      ]
    },
    {
      "cell_type": "code",
      "source": [
        "X_minmax = scaler.fit_transform(X)"
      ],
      "metadata": {
        "id": "EwTTo9NN2n19"
      },
      "execution_count": null,
      "outputs": []
    },
    {
      "cell_type": "code",
      "source": [
        "X_minmax"
      ],
      "metadata": {
        "colab": {
          "base_uri": "https://localhost:8080/"
        },
        "id": "g_RIONTJ6Ci_",
        "outputId": "010b31a8-13be-485b-8cc1-2e92701df18b"
      },
      "execution_count": null,
      "outputs": [
        {
          "output_type": "execute_result",
          "data": {
            "text/plain": [
              "array([[1.        , 1.        , 1.        , 0.        ],\n",
              "       [1.        , 0.        , 0.        , 0.5       ],\n",
              "       [0.        , 0.48505492, 0.40545584, 1.        ],\n",
              "       [0.33333333, 0.5       , 0.3535818 , 0.56259573]])"
            ]
          },
          "metadata": {},
          "execution_count": 109
        }
      ]
    },
    {
      "cell_type": "markdown",
      "source": [
        "Удалим пропущенные значения."
      ],
      "metadata": {
        "id": "fRBpoffkMUov"
      }
    },
    {
      "cell_type": "code",
      "source": [
        "X_withoutnan = fill_nan(X_minmax)"
      ],
      "metadata": {
        "id": "OGrRJANB2yrU"
      },
      "execution_count": null,
      "outputs": []
    },
    {
      "cell_type": "code",
      "source": [
        "x = X_withoutnan"
      ],
      "metadata": {
        "id": "u_kHCNcR7IMh"
      },
      "execution_count": null,
      "outputs": []
    },
    {
      "cell_type": "markdown",
      "source": [
        "Разобьем выборки на тренировочную и тестовую. "
      ],
      "metadata": {
        "id": "LquQTcYKMZXb"
      }
    },
    {
      "cell_type": "code",
      "source": [
        "x_train,x_test, y_train, y_test = \\\n",
        "train_test_split(x,y,test_size= 0.3, random_state = 42)"
      ],
      "metadata": {
        "id": "D5DweDij3IbU"
      },
      "execution_count": null,
      "outputs": []
    },
    {
      "cell_type": "code",
      "source": [
        "model = LinearRegression()\n",
        "model.fit(x_train, y_train)"
      ],
      "metadata": {
        "colab": {
          "base_uri": "https://localhost:8080/",
          "height": 76
        },
        "id": "bCZPDFIP82Iy",
        "outputId": "5a6273f3-62e9-43f8-92f2-3859ed92788b"
      },
      "execution_count": null,
      "outputs": [
        {
          "output_type": "execute_result",
          "data": {
            "text/plain": [
              "LinearRegression()"
            ],
            "text/html": [
              "<style>#sk-container-id-4 {color: black;background-color: white;}#sk-container-id-4 pre{padding: 0;}#sk-container-id-4 div.sk-toggleable {background-color: white;}#sk-container-id-4 label.sk-toggleable__label {cursor: pointer;display: block;width: 100%;margin-bottom: 0;padding: 0.3em;box-sizing: border-box;text-align: center;}#sk-container-id-4 label.sk-toggleable__label-arrow:before {content: \"▸\";float: left;margin-right: 0.25em;color: #696969;}#sk-container-id-4 label.sk-toggleable__label-arrow:hover:before {color: black;}#sk-container-id-4 div.sk-estimator:hover label.sk-toggleable__label-arrow:before {color: black;}#sk-container-id-4 div.sk-toggleable__content {max-height: 0;max-width: 0;overflow: hidden;text-align: left;background-color: #f0f8ff;}#sk-container-id-4 div.sk-toggleable__content pre {margin: 0.2em;color: black;border-radius: 0.25em;background-color: #f0f8ff;}#sk-container-id-4 input.sk-toggleable__control:checked~div.sk-toggleable__content {max-height: 200px;max-width: 100%;overflow: auto;}#sk-container-id-4 input.sk-toggleable__control:checked~label.sk-toggleable__label-arrow:before {content: \"▾\";}#sk-container-id-4 div.sk-estimator input.sk-toggleable__control:checked~label.sk-toggleable__label {background-color: #d4ebff;}#sk-container-id-4 div.sk-label input.sk-toggleable__control:checked~label.sk-toggleable__label {background-color: #d4ebff;}#sk-container-id-4 input.sk-hidden--visually {border: 0;clip: rect(1px 1px 1px 1px);clip: rect(1px, 1px, 1px, 1px);height: 1px;margin: -1px;overflow: hidden;padding: 0;position: absolute;width: 1px;}#sk-container-id-4 div.sk-estimator {font-family: monospace;background-color: #f0f8ff;border: 1px dotted black;border-radius: 0.25em;box-sizing: border-box;margin-bottom: 0.5em;}#sk-container-id-4 div.sk-estimator:hover {background-color: #d4ebff;}#sk-container-id-4 div.sk-parallel-item::after {content: \"\";width: 100%;border-bottom: 1px solid gray;flex-grow: 1;}#sk-container-id-4 div.sk-label:hover label.sk-toggleable__label {background-color: #d4ebff;}#sk-container-id-4 div.sk-serial::before {content: \"\";position: absolute;border-left: 1px solid gray;box-sizing: border-box;top: 0;bottom: 0;left: 50%;z-index: 0;}#sk-container-id-4 div.sk-serial {display: flex;flex-direction: column;align-items: center;background-color: white;padding-right: 0.2em;padding-left: 0.2em;position: relative;}#sk-container-id-4 div.sk-item {position: relative;z-index: 1;}#sk-container-id-4 div.sk-parallel {display: flex;align-items: stretch;justify-content: center;background-color: white;position: relative;}#sk-container-id-4 div.sk-item::before, #sk-container-id-4 div.sk-parallel-item::before {content: \"\";position: absolute;border-left: 1px solid gray;box-sizing: border-box;top: 0;bottom: 0;left: 50%;z-index: -1;}#sk-container-id-4 div.sk-parallel-item {display: flex;flex-direction: column;z-index: 1;position: relative;background-color: white;}#sk-container-id-4 div.sk-parallel-item:first-child::after {align-self: flex-end;width: 50%;}#sk-container-id-4 div.sk-parallel-item:last-child::after {align-self: flex-start;width: 50%;}#sk-container-id-4 div.sk-parallel-item:only-child::after {width: 0;}#sk-container-id-4 div.sk-dashed-wrapped {border: 1px dashed gray;margin: 0 0.4em 0.5em 0.4em;box-sizing: border-box;padding-bottom: 0.4em;background-color: white;}#sk-container-id-4 div.sk-label label {font-family: monospace;font-weight: bold;display: inline-block;line-height: 1.2em;}#sk-container-id-4 div.sk-label-container {text-align: center;}#sk-container-id-4 div.sk-container {/* jupyter's `normalize.less` sets `[hidden] { display: none; }` but bootstrap.min.css set `[hidden] { display: none !important; }` so we also need the `!important` here to be able to override the default hidden behavior on the sphinx rendered scikit-learn.org. See: https://github.com/scikit-learn/scikit-learn/issues/21755 */display: inline-block !important;position: relative;}#sk-container-id-4 div.sk-text-repr-fallback {display: none;}</style><div id=\"sk-container-id-4\" class=\"sk-top-container\"><div class=\"sk-text-repr-fallback\"><pre>LinearRegression()</pre><b>In a Jupyter environment, please rerun this cell to show the HTML representation or trust the notebook. <br />On GitHub, the HTML representation is unable to render, please try loading this page with nbviewer.org.</b></div><div class=\"sk-container\" hidden><div class=\"sk-item\"><div class=\"sk-estimator sk-toggleable\"><input class=\"sk-toggleable__control sk-hidden--visually\" id=\"sk-estimator-id-4\" type=\"checkbox\" checked><label for=\"sk-estimator-id-4\" class=\"sk-toggleable__label sk-toggleable__label-arrow\">LinearRegression</label><div class=\"sk-toggleable__content\"><pre>LinearRegression()</pre></div></div></div></div></div>"
            ]
          },
          "metadata": {},
          "execution_count": 54
        }
      ]
    },
    {
      "cell_type": "markdown",
      "source": [
        "Построим модель линейной регрессии."
      ],
      "metadata": {
        "id": "_bh8RrtfMeZv"
      }
    },
    {
      "cell_type": "code",
      "source": [
        "model = LinearRegression()\n",
        "model.fit(x_train, y_train)"
      ],
      "metadata": {
        "id": "maXwZ4rB3fiZ",
        "colab": {
          "base_uri": "https://localhost:8080/",
          "height": 76
        },
        "outputId": "016da7ff-b1b7-46ee-aa38-1ab4841c58dc"
      },
      "execution_count": null,
      "outputs": [
        {
          "output_type": "execute_result",
          "data": {
            "text/plain": [
              "LinearRegression()"
            ],
            "text/html": [
              "<style>#sk-container-id-5 {color: black;background-color: white;}#sk-container-id-5 pre{padding: 0;}#sk-container-id-5 div.sk-toggleable {background-color: white;}#sk-container-id-5 label.sk-toggleable__label {cursor: pointer;display: block;width: 100%;margin-bottom: 0;padding: 0.3em;box-sizing: border-box;text-align: center;}#sk-container-id-5 label.sk-toggleable__label-arrow:before {content: \"▸\";float: left;margin-right: 0.25em;color: #696969;}#sk-container-id-5 label.sk-toggleable__label-arrow:hover:before {color: black;}#sk-container-id-5 div.sk-estimator:hover label.sk-toggleable__label-arrow:before {color: black;}#sk-container-id-5 div.sk-toggleable__content {max-height: 0;max-width: 0;overflow: hidden;text-align: left;background-color: #f0f8ff;}#sk-container-id-5 div.sk-toggleable__content pre {margin: 0.2em;color: black;border-radius: 0.25em;background-color: #f0f8ff;}#sk-container-id-5 input.sk-toggleable__control:checked~div.sk-toggleable__content {max-height: 200px;max-width: 100%;overflow: auto;}#sk-container-id-5 input.sk-toggleable__control:checked~label.sk-toggleable__label-arrow:before {content: \"▾\";}#sk-container-id-5 div.sk-estimator input.sk-toggleable__control:checked~label.sk-toggleable__label {background-color: #d4ebff;}#sk-container-id-5 div.sk-label input.sk-toggleable__control:checked~label.sk-toggleable__label {background-color: #d4ebff;}#sk-container-id-5 input.sk-hidden--visually {border: 0;clip: rect(1px 1px 1px 1px);clip: rect(1px, 1px, 1px, 1px);height: 1px;margin: -1px;overflow: hidden;padding: 0;position: absolute;width: 1px;}#sk-container-id-5 div.sk-estimator {font-family: monospace;background-color: #f0f8ff;border: 1px dotted black;border-radius: 0.25em;box-sizing: border-box;margin-bottom: 0.5em;}#sk-container-id-5 div.sk-estimator:hover {background-color: #d4ebff;}#sk-container-id-5 div.sk-parallel-item::after {content: \"\";width: 100%;border-bottom: 1px solid gray;flex-grow: 1;}#sk-container-id-5 div.sk-label:hover label.sk-toggleable__label {background-color: #d4ebff;}#sk-container-id-5 div.sk-serial::before {content: \"\";position: absolute;border-left: 1px solid gray;box-sizing: border-box;top: 0;bottom: 0;left: 50%;z-index: 0;}#sk-container-id-5 div.sk-serial {display: flex;flex-direction: column;align-items: center;background-color: white;padding-right: 0.2em;padding-left: 0.2em;position: relative;}#sk-container-id-5 div.sk-item {position: relative;z-index: 1;}#sk-container-id-5 div.sk-parallel {display: flex;align-items: stretch;justify-content: center;background-color: white;position: relative;}#sk-container-id-5 div.sk-item::before, #sk-container-id-5 div.sk-parallel-item::before {content: \"\";position: absolute;border-left: 1px solid gray;box-sizing: border-box;top: 0;bottom: 0;left: 50%;z-index: -1;}#sk-container-id-5 div.sk-parallel-item {display: flex;flex-direction: column;z-index: 1;position: relative;background-color: white;}#sk-container-id-5 div.sk-parallel-item:first-child::after {align-self: flex-end;width: 50%;}#sk-container-id-5 div.sk-parallel-item:last-child::after {align-self: flex-start;width: 50%;}#sk-container-id-5 div.sk-parallel-item:only-child::after {width: 0;}#sk-container-id-5 div.sk-dashed-wrapped {border: 1px dashed gray;margin: 0 0.4em 0.5em 0.4em;box-sizing: border-box;padding-bottom: 0.4em;background-color: white;}#sk-container-id-5 div.sk-label label {font-family: monospace;font-weight: bold;display: inline-block;line-height: 1.2em;}#sk-container-id-5 div.sk-label-container {text-align: center;}#sk-container-id-5 div.sk-container {/* jupyter's `normalize.less` sets `[hidden] { display: none; }` but bootstrap.min.css set `[hidden] { display: none !important; }` so we also need the `!important` here to be able to override the default hidden behavior on the sphinx rendered scikit-learn.org. See: https://github.com/scikit-learn/scikit-learn/issues/21755 */display: inline-block !important;position: relative;}#sk-container-id-5 div.sk-text-repr-fallback {display: none;}</style><div id=\"sk-container-id-5\" class=\"sk-top-container\"><div class=\"sk-text-repr-fallback\"><pre>LinearRegression()</pre><b>In a Jupyter environment, please rerun this cell to show the HTML representation or trust the notebook. <br />On GitHub, the HTML representation is unable to render, please try loading this page with nbviewer.org.</b></div><div class=\"sk-container\" hidden><div class=\"sk-item\"><div class=\"sk-estimator sk-toggleable\"><input class=\"sk-toggleable__control sk-hidden--visually\" id=\"sk-estimator-id-5\" type=\"checkbox\" checked><label for=\"sk-estimator-id-5\" class=\"sk-toggleable__label sk-toggleable__label-arrow\">LinearRegression</label><div class=\"sk-toggleable__content\"><pre>LinearRegression()</pre></div></div></div></div></div>"
            ]
          },
          "metadata": {},
          "execution_count": 55
        }
      ]
    },
    {
      "cell_type": "markdown",
      "source": [
        "Посмотрим характеристики модели."
      ],
      "metadata": {
        "id": "qID_hpgvMhuD"
      }
    },
    {
      "cell_type": "code",
      "source": [
        "print_LR_MSE_score(model, x_test,y_test)"
      ],
      "metadata": {
        "id": "CQ2ESt823ltD",
        "colab": {
          "base_uri": "https://localhost:8080/"
        },
        "outputId": "aa8910f6-fca2-4551-f7b1-ea55897b97ad"
      },
      "execution_count": null,
      "outputs": [
        {
          "output_type": "stream",
          "name": "stdout",
          "text": [
            "w = [  0.38842205  -0.72981105   0.23062408  -2.36744743   2.863757\n",
            " -14.34066222] \n",
            "MSE = 3.7087553213307776 \n",
            "Score = 0.8394667008516299\n"
          ]
        }
      ]
    },
    {
      "cell_type": "markdown",
      "source": [
        "Попробуем другой вариант нормализации"
      ],
      "metadata": {
        "id": "N5b8ltJD6zGs"
      }
    },
    {
      "cell_type": "code",
      "source": [
        "scaler = StandardScaler()\n"
      ],
      "metadata": {
        "id": "2gYmnUjB6zGt"
      },
      "execution_count": null,
      "outputs": []
    },
    {
      "cell_type": "code",
      "source": [],
      "metadata": {
        "id": "ME8rA5HRnC0v"
      },
      "execution_count": null,
      "outputs": []
    },
    {
      "cell_type": "markdown",
      "source": [
        "Есть улучшение показателей.  Но имеет смысл попробовать заполнить пропущенные значения другим алгоритмом. "
      ],
      "metadata": {
        "id": "Lq-54rli7T1Z"
      }
    },
    {
      "cell_type": "markdown",
      "source": [
        "##Задание 28.1*  \n",
        "Попробуйте поэкспериментировать - удалить  из набора данных с рейтингом ВУЗов столбцы, в которых изначально больше 40% значений пропущены. Заполните пропущенные значения в остальных столбцах. Постройте похожим способом модель линейной  регрессии и сравните показатели полученной модели. Они улучшились?\n"
      ],
      "metadata": {
        "id": "R5V4XzgzNRnb"
      }
    },
    {
      "cell_type": "code",
      "source": [],
      "metadata": {
        "id": "aFv8fDWROEk-"
      },
      "execution_count": null,
      "outputs": []
    },
    {
      "cell_type": "markdown",
      "source": [
        "##*Использование коэффициента корреляции для восстановления пропущенных данных*\n"
      ],
      "metadata": {
        "id": "N8CHxZ-PwaWP"
      }
    },
    {
      "cell_type": "markdown",
      "source": [
        "Коэффициент корреляции показывает, как сильно значения одного признака влияют на значения других признаков, фактически он показывает некоторую меру близости признаков."
      ],
      "metadata": {
        "id": "a9L8E84-xHYB"
      }
    },
    {
      "cell_type": "markdown",
      "metadata": {
        "id": "hUWYhv06WyqJ"
      },
      "source": [
        "\n",
        "### Использование корреляции столбцов\n",
        "**Алгоритм 27.2**\n",
        "\n",
        "Пусть $X$ - матрица нецелевых признаков, содержащая $n$ строк (по числу объектов) и $m$ столбцов (по числу признаков). \n",
        "\n",
        "И пусть признак $x_{ij}$ не определен. Это соответствует тому, что для объекта $i$ значение признака $j$ либо пропущено, либо равно nan. \n",
        "\n",
        "Тогда, зная корреляцию столбца $j$ с остальными признаками (столбцами), можно заполнить (восстановить) значение $x_{ij}$ по следующей формуле.\n",
        "\n",
        "$$\n",
        "x_{ij}  = \\overline{x_j} + \\frac{\\displaystyle\\sum_{k=1}^{m} {corr(x_k,x_j)(x_{ik} - \\overline{x_k})}}\n",
        "{\\displaystyle\\sum_{k=1}^{m} {|corr(x_k,x_j)|}},    k\\neq j\n",
        "$$\n",
        "\n",
        "где \n",
        "$ \\overline{x_j}$ - среднее значение признака  $j$,  \n",
        "$ \\overline{x_k}$ - среднее значение признака  $k$,  \n",
        "$ corr(x_k,x_j) $ - коэффициент корреляции между $k$-ым и $j$-тым признаками.  "
      ]
    },
    {
      "cell_type": "markdown",
      "source": [
        "### Использование корреляции строк "
      ],
      "metadata": {
        "id": "IspItUBawQ8S"
      }
    },
    {
      "cell_type": "markdown",
      "source": [
        "Корреляция столбцов демонстировала нам близость признаков, а что будет показывать для той же матрицы корреляция строк?  \n",
        "\n"
      ],
      "metadata": {
        "id": "e_VbYGVIuew4"
      }
    },
    {
      "cell_type": "markdown",
      "source": [
        "Сначала посмотрим на матрицу. Дает ли нам какую-то информацию столбец, если все его значения для всех объектов одинаковы? \n",
        "\n",
        "\n",
        "Дает ли нам какую-то информацию строка, если все её значения одинаковы?\n",
        "\n",
        "И можно ли для таких матриц искать корреляции столбцов и строк?  \n",
        "\n",
        "Рассмотрим примеры. \n"
      ],
      "metadata": {
        "id": "nrSMRzcXFtdS"
      }
    },
    {
      "cell_type": "code",
      "source": [
        "X = np.array([[4., 3., 5., 4], \n",
        "              [5., 4., 6., 5], \n",
        "              [5., 5., 4., 5], \n",
        "              [5., 4., 5., 5.]])"
      ],
      "metadata": {
        "id": "ZTHFsODVjd5b"
      },
      "execution_count": null,
      "outputs": []
    },
    {
      "cell_type": "code",
      "source": [
        "np.isin(0, X.var(axis = 1))"
      ],
      "metadata": {
        "colab": {
          "base_uri": "https://localhost:8080/"
        },
        "id": "hXFGgKR2Aq1Y",
        "outputId": "9235a335-30bb-44c4-a653-c7b233434d96"
      },
      "execution_count": null,
      "outputs": [
        {
          "output_type": "execute_result",
          "data": {
            "text/plain": [
              "array(False)"
            ]
          },
          "metadata": {},
          "execution_count": 122
        }
      ]
    },
    {
      "cell_type": "code",
      "source": [
        "# Определить, что есть строка с одинаковыми значениями\n",
        "if np.isin(0, X.var(axis = 0)):\n",
        "  print('Построение матрицы не возможно')\n",
        "else: M = np.corrcoef(X)"
      ],
      "metadata": {
        "id": "sIypezcAN6CK"
      },
      "execution_count": null,
      "outputs": []
    },
    {
      "cell_type": "code",
      "source": [
        "M"
      ],
      "metadata": {
        "colab": {
          "base_uri": "https://localhost:8080/"
        },
        "id": "retem80iByxB",
        "outputId": "d32ecc84-baa8-4bd8-e6f0-166faaf2e5f0"
      },
      "execution_count": null,
      "outputs": [
        {
          "output_type": "execute_result",
          "data": {
            "text/plain": [
              "array([[ 1.        ,  1.        , -0.81649658,  0.81649658],\n",
              "       [ 1.        ,  1.        , -0.81649658,  0.81649658],\n",
              "       [-0.81649658, -0.81649658,  1.        , -0.33333333],\n",
              "       [ 0.81649658,  0.81649658, -0.33333333,  1.        ]])"
            ]
          },
          "metadata": {},
          "execution_count": 124
        }
      ]
    },
    {
      "cell_type": "code",
      "source": [
        "df = pd.DataFrame(x)"
      ],
      "metadata": {
        "id": "oGhdGbAcDJhb"
      },
      "execution_count": null,
      "outputs": []
    },
    {
      "cell_type": "code",
      "source": [
        "df.corr()        # вычисляет коэффициенты корреляции по строкам, и не работает,\n",
        "                # если есть строка с одинаковыми значениями"
      ],
      "metadata": {
        "id": "dCHNRglDPUSp",
        "colab": {
          "base_uri": "https://localhost:8080/",
          "height": 174
        },
        "outputId": "406b64df-8560-4b0a-a257-f7c1c59039a3"
      },
      "execution_count": null,
      "outputs": [
        {
          "output_type": "execute_result",
          "data": {
            "text/plain": [
              "          0         1         2         3\n",
              "0  1.000000  0.014234  0.147514 -0.839588\n",
              "1  0.014234  1.000000  0.985351 -0.512886\n",
              "2  0.147514  0.985351  1.000000 -0.594210\n",
              "3 -0.839588 -0.512886 -0.594210  1.000000"
            ],
            "text/html": [
              "\n",
              "  <div id=\"df-e6a9a227-8daa-4082-94f0-1a01e149c501\">\n",
              "    <div class=\"colab-df-container\">\n",
              "      <div>\n",
              "<style scoped>\n",
              "    .dataframe tbody tr th:only-of-type {\n",
              "        vertical-align: middle;\n",
              "    }\n",
              "\n",
              "    .dataframe tbody tr th {\n",
              "        vertical-align: top;\n",
              "    }\n",
              "\n",
              "    .dataframe thead th {\n",
              "        text-align: right;\n",
              "    }\n",
              "</style>\n",
              "<table border=\"1\" class=\"dataframe\">\n",
              "  <thead>\n",
              "    <tr style=\"text-align: right;\">\n",
              "      <th></th>\n",
              "      <th>0</th>\n",
              "      <th>1</th>\n",
              "      <th>2</th>\n",
              "      <th>3</th>\n",
              "    </tr>\n",
              "  </thead>\n",
              "  <tbody>\n",
              "    <tr>\n",
              "      <th>0</th>\n",
              "      <td>1.000000</td>\n",
              "      <td>0.014234</td>\n",
              "      <td>0.147514</td>\n",
              "      <td>-0.839588</td>\n",
              "    </tr>\n",
              "    <tr>\n",
              "      <th>1</th>\n",
              "      <td>0.014234</td>\n",
              "      <td>1.000000</td>\n",
              "      <td>0.985351</td>\n",
              "      <td>-0.512886</td>\n",
              "    </tr>\n",
              "    <tr>\n",
              "      <th>2</th>\n",
              "      <td>0.147514</td>\n",
              "      <td>0.985351</td>\n",
              "      <td>1.000000</td>\n",
              "      <td>-0.594210</td>\n",
              "    </tr>\n",
              "    <tr>\n",
              "      <th>3</th>\n",
              "      <td>-0.839588</td>\n",
              "      <td>-0.512886</td>\n",
              "      <td>-0.594210</td>\n",
              "      <td>1.000000</td>\n",
              "    </tr>\n",
              "  </tbody>\n",
              "</table>\n",
              "</div>\n",
              "      <button class=\"colab-df-convert\" onclick=\"convertToInteractive('df-e6a9a227-8daa-4082-94f0-1a01e149c501')\"\n",
              "              title=\"Convert this dataframe to an interactive table.\"\n",
              "              style=\"display:none;\">\n",
              "        \n",
              "  <svg xmlns=\"http://www.w3.org/2000/svg\" height=\"24px\"viewBox=\"0 0 24 24\"\n",
              "       width=\"24px\">\n",
              "    <path d=\"M0 0h24v24H0V0z\" fill=\"none\"/>\n",
              "    <path d=\"M18.56 5.44l.94 2.06.94-2.06 2.06-.94-2.06-.94-.94-2.06-.94 2.06-2.06.94zm-11 1L8.5 8.5l.94-2.06 2.06-.94-2.06-.94L8.5 2.5l-.94 2.06-2.06.94zm10 10l.94 2.06.94-2.06 2.06-.94-2.06-.94-.94-2.06-.94 2.06-2.06.94z\"/><path d=\"M17.41 7.96l-1.37-1.37c-.4-.4-.92-.59-1.43-.59-.52 0-1.04.2-1.43.59L10.3 9.45l-7.72 7.72c-.78.78-.78 2.05 0 2.83L4 21.41c.39.39.9.59 1.41.59.51 0 1.02-.2 1.41-.59l7.78-7.78 2.81-2.81c.8-.78.8-2.07 0-2.86zM5.41 20L4 18.59l7.72-7.72 1.47 1.35L5.41 20z\"/>\n",
              "  </svg>\n",
              "      </button>\n",
              "      \n",
              "  <style>\n",
              "    .colab-df-container {\n",
              "      display:flex;\n",
              "      flex-wrap:wrap;\n",
              "      gap: 12px;\n",
              "    }\n",
              "\n",
              "    .colab-df-convert {\n",
              "      background-color: #E8F0FE;\n",
              "      border: none;\n",
              "      border-radius: 50%;\n",
              "      cursor: pointer;\n",
              "      display: none;\n",
              "      fill: #1967D2;\n",
              "      height: 32px;\n",
              "      padding: 0 0 0 0;\n",
              "      width: 32px;\n",
              "    }\n",
              "\n",
              "    .colab-df-convert:hover {\n",
              "      background-color: #E2EBFA;\n",
              "      box-shadow: 0px 1px 2px rgba(60, 64, 67, 0.3), 0px 1px 3px 1px rgba(60, 64, 67, 0.15);\n",
              "      fill: #174EA6;\n",
              "    }\n",
              "\n",
              "    [theme=dark] .colab-df-convert {\n",
              "      background-color: #3B4455;\n",
              "      fill: #D2E3FC;\n",
              "    }\n",
              "\n",
              "    [theme=dark] .colab-df-convert:hover {\n",
              "      background-color: #434B5C;\n",
              "      box-shadow: 0px 1px 3px 1px rgba(0, 0, 0, 0.15);\n",
              "      filter: drop-shadow(0px 1px 2px rgba(0, 0, 0, 0.3));\n",
              "      fill: #FFFFFF;\n",
              "    }\n",
              "  </style>\n",
              "\n",
              "      <script>\n",
              "        const buttonEl =\n",
              "          document.querySelector('#df-e6a9a227-8daa-4082-94f0-1a01e149c501 button.colab-df-convert');\n",
              "        buttonEl.style.display =\n",
              "          google.colab.kernel.accessAllowed ? 'block' : 'none';\n",
              "\n",
              "        async function convertToInteractive(key) {\n",
              "          const element = document.querySelector('#df-e6a9a227-8daa-4082-94f0-1a01e149c501');\n",
              "          const dataTable =\n",
              "            await google.colab.kernel.invokeFunction('convertToInteractive',\n",
              "                                                     [key], {});\n",
              "          if (!dataTable) return;\n",
              "\n",
              "          const docLinkHtml = 'Like what you see? Visit the ' +\n",
              "            '<a target=\"_blank\" href=https://colab.research.google.com/notebooks/data_table.ipynb>data table notebook</a>'\n",
              "            + ' to learn more about interactive tables.';\n",
              "          element.innerHTML = '';\n",
              "          dataTable['output_type'] = 'display_data';\n",
              "          await google.colab.output.renderOutput(dataTable, element);\n",
              "          const docLink = document.createElement('div');\n",
              "          docLink.innerHTML = docLinkHtml;\n",
              "          element.appendChild(docLink);\n",
              "        }\n",
              "      </script>\n",
              "    </div>\n",
              "  </div>\n",
              "  "
            ]
          },
          "metadata": {},
          "execution_count": 127
        }
      ]
    },
    {
      "cell_type": "markdown",
      "source": [
        "Вспомним, как интерпретировать показатели корреляции. В нашей матрице `X` нулевая и первая строки коррелируют.  "
      ],
      "metadata": {
        "id": "ncib-zCAPYix"
      }
    },
    {
      "cell_type": "code",
      "source": [
        "X = np.array([[4., 3., 5., 5], \n",
        "              [5., 4., 6., 5], \n",
        "              [5., 4., 5., 5], \n",
        "              [5., 4., 5., 5.]])\n",
        "\n",
        "np.corrcoef(X) # вычисляет коэффициенты корреляции по строкам"
      ],
      "metadata": {
        "id": "EqrbGg4RMRQl"
      },
      "execution_count": null,
      "outputs": []
    },
    {
      "cell_type": "code",
      "source": [
        "# Определить, что есть столбец с одинаковыми значениями\n"
      ],
      "metadata": {
        "id": "rsE5GgCFPxmA"
      },
      "execution_count": null,
      "outputs": []
    },
    {
      "cell_type": "code",
      "source": [
        "df = pd.DataFrame(X)"
      ],
      "metadata": {
        "id": "MQxn1GF0IGjY"
      },
      "execution_count": null,
      "outputs": []
    },
    {
      "cell_type": "code",
      "source": [
        "df.corr()     # вычисляет коэффициенты корреляции по столбцам, и не работает, \n",
        "              # если есть столбец с одинаковыми значениями "
      ],
      "metadata": {
        "id": "6JIgTlsRIMh4"
      },
      "execution_count": null,
      "outputs": []
    },
    {
      "cell_type": "markdown",
      "source": [
        "Соответственно, функция `df.corr()` тоже не умеет работать в условии, когда все значения какого-то признака **одинаковы**.\n",
        "А нужен ли нам вообще такой признак?"
      ],
      "metadata": {
        "id": "h5ifHvq_QMfV"
      }
    },
    {
      "cell_type": "markdown",
      "source": [
        "###Вывод\n",
        "До применения Алгоритма 27.2 следует убедиться, что матрица удовлетворяет требованиям. В зависимости от применяемой функции  или метода  в матрице не должно быть:   \n",
        "Для `corrcoef(X)`  - строк, все значения которой равны между собой.  \n",
        "Для `corr()` - столбцов, все значения которого равны между собой."
      ],
      "metadata": {
        "id": "HBiW9gnpQjxp"
      }
    },
    {
      "cell_type": "markdown",
      "source": [
        "#Кластеризация"
      ],
      "metadata": {
        "id": "OmDp2boSRlGu"
      }
    },
    {
      "cell_type": "markdown",
      "source": [
        "Кластеризация (англ. cluster analysis) — задача группировки множества объектов на подмножества (кластеры) таким образом, чтобы объекты из одного кластера были более похожи друг на друга, чем на объекты из других кластеров по какому-либо критерию."
      ],
      "metadata": {
        "id": "QwBgT3_DRu15"
      }
    },
    {
      "cell_type": "markdown",
      "source": [
        "Прежде, чем писать собственный алгоритм кластеризации, давайте напишем несколько функций для визуализации этого процесса.   \n",
        "\n",
        "Пусть у нас есть 4 объекта с признаками, см. матрицу `X.`"
      ],
      "metadata": {
        "id": "Hg_hIvXqR83c"
      }
    },
    {
      "cell_type": "code",
      "source": [
        "X = np.array([[1., 1.], \n",
        "              [2., 0], \n",
        "              [1., 6.], \n",
        "              [4., 0.]])"
      ],
      "metadata": {
        "id": "MBxwpRmWGXqy"
      },
      "execution_count": null,
      "outputs": []
    },
    {
      "cell_type": "markdown",
      "source": [
        "Посмотрим, как они разбросаны. "
      ],
      "metadata": {
        "id": "yMyDfrbTTxFw"
      }
    },
    {
      "cell_type": "code",
      "source": [
        "plt.scatter(X[:, 0], X[:, 1])\n",
        "plt.plot(X[:, 0].mean(), X[:, 1].mean(), 'ro');"
      ],
      "metadata": {
        "id": "joA0Ew02T_sd",
        "colab": {
          "base_uri": "https://localhost:8080/",
          "height": 265
        },
        "outputId": "acd6f58c-d414-434e-bf35-11db79beb2ec"
      },
      "execution_count": null,
      "outputs": [
        {
          "output_type": "display_data",
          "data": {
            "text/plain": [
              "<Figure size 432x288 with 1 Axes>"
            ],
            "image/png": "[encoded data removed]"
          },
          "metadata": {
            "needs_background": "light"
          }
        }
      ]
    },
    {
      "cell_type": "markdown",
      "source": [
        "##Задание 28.1  \n",
        "Напишите функцию `draw_circle(center, R)`, которая рисует в плоскости окружность с центром в точке `center`   радиуса `R`. Кортеж `center` содержит два числа - координаты центра `(x, y)`."
      ],
      "metadata": {
        "id": "hQycCA9MzgFK"
      }
    },
    {
      "cell_type": "code",
      "source": [],
      "metadata": {
        "id": "99RFo54aPAeD"
      },
      "execution_count": null,
      "outputs": []
    },
    {
      "cell_type": "code",
      "source": [
        "def draw_circle(center, R):\n",
        "    plt.figure(figsize = (4,4))\n",
        "    angle = np.linspace(0,2*np.pi,100)\n",
        "    plt.plot(center[0]+R*np.cos(angle),center[1]+R*np.sin(angle), 'r')\n",
        "    return 0"
      ],
      "metadata": {
        "id": "LBJPkdiLYeu2"
      },
      "execution_count": null,
      "outputs": []
    },
    {
      "cell_type": "code",
      "source": [
        "draw_circle((10,1), 3)"
      ],
      "metadata": {
        "id": "z5rd_JWLUXlI",
        "colab": {
          "base_uri": "https://localhost:8080/",
          "height": 282
        },
        "outputId": "08d086af-59d1-4da5-ca6b-f17f1c2763ac"
      },
      "execution_count": null,
      "outputs": [
        {
          "output_type": "execute_result",
          "data": {
            "text/plain": [
              "0"
            ]
          },
          "metadata": {},
          "execution_count": 132
        },
        {
          "output_type": "display_data",
          "data": {
            "text/plain": [
              "<Figure size 288x288 with 1 Axes>"
            ],
            "image/png": "[encoded data removed]"
          },
          "metadata": {
            "needs_background": "light"
          }
        }
      ]
    },
    {
      "cell_type": "markdown",
      "source": [
        "##Задание 28.2  \n",
        "Напишите функцию `find_centroid(X, c)`, которая возвращает центр тяжести (центроид) для объектов массива `X`, перечисленных в списке c. C - список индексов строк.  "
      ],
      "metadata": {
        "id": "t-J_ZIbW0Fvv"
      }
    },
    {
      "cell_type": "code",
      "source": [
        "def find_centroid(X, c):\n",
        "    \"\"\" \n",
        "    \"\"\"\n",
        "    return X[c].mean(axis = 0)"
      ],
      "metadata": {
        "id": "qF2HnK2MQI4O"
      },
      "execution_count": null,
      "outputs": []
    },
    {
      "cell_type": "code",
      "source": [
        "find_centroid(X, [0, 1,2])"
      ],
      "metadata": {
        "id": "7gKtqD0GV7Hq",
        "colab": {
          "base_uri": "https://localhost:8080/"
        },
        "outputId": "0275198c-1e7e-4909-afd9-1f13cc5b5343"
      },
      "execution_count": null,
      "outputs": [
        {
          "output_type": "execute_result",
          "data": {
            "text/plain": [
              "array([1.33333333, 2.33333333])"
            ]
          },
          "metadata": {},
          "execution_count": 139
        }
      ]
    },
    {
      "cell_type": "code",
      "source": [
        "X"
      ],
      "metadata": {
        "colab": {
          "base_uri": "https://localhost:8080/"
        },
        "id": "WmKGogCPP6Y0",
        "outputId": "549ce22d-6f5f-4cf4-affb-99f9d95e64d8"
      },
      "execution_count": null,
      "outputs": [
        {
          "output_type": "execute_result",
          "data": {
            "text/plain": [
              "array([[1., 1.],\n",
              "       [2., 0.],\n",
              "       [1., 6.],\n",
              "       [4., 0.]])"
            ]
          },
          "metadata": {},
          "execution_count": 138
        }
      ]
    },
    {
      "cell_type": "markdown",
      "source": [
        "***Курсив:***## Алгоритм нахождения одного кластера для FOREL"
      ],
      "metadata": {
        "id": "9Bc__fvF1BGD"
      }
    },
    {
      "cell_type": "code",
      "source": [
        "def find_cluster(X, R, f):\n",
        "\n",
        "    return c"
      ],
      "metadata": {
        "id": "JAgjEE-8SVKF"
      },
      "execution_count": null,
      "outputs": []
    },
    {
      "cell_type": "code",
      "source": [],
      "metadata": {
        "id": "e_0KYgxHPmSp"
      },
      "execution_count": null,
      "outputs": []
    },
    {
      "cell_type": "code",
      "source": [
        "X = np.array([[1., 1.], \n",
        "              [2., 0], \n",
        "              [1., 6.], \n",
        "              [4., 0.],\n",
        "              [3., 5],\n",
        "              [4, 4],\n",
        "              [3, 4],\n",
        "              [1.5, 5],\n",
        "              [2, 4],\n",
        "              [1.5, 3],\n",
        "              [3.5, 2]])"
      ],
      "metadata": {
        "id": "2hgF50kwG846"
      },
      "execution_count": null,
      "outputs": []
    },
    {
      "cell_type": "code",
      "source": [
        "f = np.random.randint(X.max(), size=2)\n"
      ],
      "metadata": {
        "id": "i6xke5g2qeFt"
      },
      "execution_count": null,
      "outputs": []
    },
    {
      "cell_type": "code",
      "source": [
        "c1 = find_cluster(X, 3, f)"
      ],
      "metadata": {
        "id": "tO72oR0626BH"
      },
      "execution_count": null,
      "outputs": []
    },
    {
      "cell_type": "code",
      "source": [
        "c1"
      ],
      "metadata": {
        "id": "C846NIQC3Na8"
      },
      "execution_count": null,
      "outputs": []
    },
    {
      "cell_type": "markdown",
      "source": [
        "##Задание 28.3*  \n",
        "Обобщите алгоритм. Напишите функцию `find_all_clusters(X, R)`, которая возвращает список кластеров для  массива `X` и параметра R.  "
      ],
      "metadata": {
        "id": "TwbTegnD1eFW"
      }
    },
    {
      "cell_type": "code",
      "source": [],
      "metadata": {
        "id": "xfHcmeMn1ZqC"
      },
      "execution_count": null,
      "outputs": []
    },
    {
      "cell_type": "markdown",
      "source": [
        "##Задание 28.4*   \n",
        "Напишите функцию `fill_nan_corr(X)`, заполняет пропущенные значения массива X на основе алгоритма 27.2. Вы можете выбрать сами, использовать корреляцию объектов или корреляцию признаков. "
      ],
      "metadata": {
        "id": "gnkGbxw82GAZ"
      }
    },
    {
      "cell_type": "code",
      "source": [],
      "metadata": {
        "id": "eSvgpcGJZb32"
      },
      "execution_count": null,
      "outputs": []
    },
    {
      "cell_type": "markdown",
      "source": [
        "## Дополнительные ссылки по теме \n",
        "\n",
        "**Numpy**\n",
        "\n",
        "*   [Numpy. Постановка задачи машинного обучения. Видео-урок](https://www.youtube.com/watch?v=Z_j_orFpJVI)\n",
        "\n",
        "*   [Библиотека Numpy. Полезные инструменты  Текстовый урок](https://devpractice.ru/numpy-useful-functions/)\n",
        "\n",
        "*   [Сколько памяти используют ваши объекты Python. Статья](https://code.tutsplus.com/ru/tutorials/understand-how-much-memory-your-python-objects-use--cms-25609)\n",
        "\n",
        "*  [Наглядно о том, как работает NumPy Статья (перевод статьи Jay Alammar) с  хорошими картинками 8-)](https://habr.com/ru/company/skillfactory/blog/564240/)\n",
        "*  [Справочное руководство по NumPy на русском языке](https://pyprog.pro/reference_manual.html)\n",
        "*  [Справочник по NumPy c mipt.ru](http://acm.mipt.ru/twiki/bin/view/Cintro/PythonNumpy)\n",
        "*  [Краткое описание math. Справочник на русском языке](https://pythonchik.ru/matematika/modul-math-v-python) \n",
        "\n",
        "*   [Статья с примерами про numpy.isclose() (на английском языке) \n",
        "](https://www.pythonpool.com/numpy-isclose/)\n",
        "\n",
        "**Машинное обучение**\n",
        "*   Книга  Уэс Маккинли \"Python и анализ данных\"/ Пер. с англ. Слинкин А. А. - М.: ДМК Пресс, 2015. - 482 с.\n",
        "*   [Машинное обучение для людей (с прекрасными картинками) \n",
        "](https://vas3k.ru/blog/machine_learning/)\n",
        "*   [Курс на YouTube Машинное обучение 1 (преп. Е. Соколов, ВШЭ)\n",
        "](https://www.youtube.com/playlist?list=PLEqoHzpnmTfChItexxg2ZfxCsm-8QPsdS)\n",
        "*   [Андрей Хлевнюк. Основы линейной регрессии. Статья на Хабр.\n",
        "](https://habr.com/ru/post/514818/)\n",
        "\n",
        "*   [Вычисление коэффициента корреляции Пирсона в Python с помощью Numpy.\n",
        "](https://pythobyte.com/calculating-pearson-correlation-coefficient-in-python-with-numpy-c7357af3/)\n",
        "\n",
        "*   [Обзор методов кластеризации из sklearn (рус.).](https://scikit-learn.ru/clustering/)\n",
        "\n"
      ],
      "metadata": {
        "id": "k4AiHjQ_nk5A"
      }
    }
  ]
}