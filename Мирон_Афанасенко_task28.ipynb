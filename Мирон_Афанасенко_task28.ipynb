{
  "nbformat": 4,
  "nbformat_minor": 0,
  "metadata": {
    "colab": {
      "provenance": [],
      "toc_visible": true,
      "include_colab_link": true
    },
    "kernelspec": {
      "display_name": "Python 3 (ipykernel)",
      "language": "python",
      "name": "python3"
    },
    "language_info": {
      "codemirror_mode": {
        "name": "ipython",
        "version": 3
      },
      "file_extension": ".py",
      "mimetype": "text/x-python",
      "name": "python",
      "nbconvert_exporter": "python",
      "pygments_lexer": "ipython3",
      "version": "3.9.6"
    }
  },
  "cells": [
    {
      "cell_type": "markdown",
      "metadata": {
        "id": "view-in-github",
        "colab_type": "text"
      },
      "source": [
        "<a href=\"https://colab.research.google.com/github/mironafanasenko/pogect/blob/main/%D0%9C%D0%B8%D1%80%D0%BE%D0%BD_%D0%90%D1%84%D0%B0%D0%BD%D0%B0%D1%81%D0%B5%D0%BD%D0%BA%D0%BE_task28.ipynb\" target=\"_parent\"><img src=\"https://colab.research.google.com/assets/colab-badge.svg\" alt=\"Open In Colab\"/></a>"
      ]
    },
    {
      "cell_type": "markdown",
      "source": [
        "<img src=\"https://drive.google.com/uc?id=1PzNwE9OZHBCd2T9gax6x35JEWlxCaMU0\" alt=\"МФТИ\" align=\"right\" width = '100' /> \n",
        "<br>\n",
        "<br>\n",
        "<br>\n",
        "<strong><font color='006db6' size='7' face=\"Arial\" >\n",
        "<p align='center'>Анализ данных на Python. </strong></font>\n",
        "\n",
        "<font color='006db6' size='6' face=\"Arial\">\n",
        "<p align='center'>Модуль 2. Python для анализа и визуализации данных</font>\n",
        "\n",
        "<font color='006db6' size='4' face=\"Arial\">\n",
        "<p align='center'>преп. Лазарева Светлана Александровна <br> Lazareva.SA@mipt.ru <br>\n",
        "teacher.ikt.2012@gmail.com</font>"
      ],
      "metadata": {
        "id": "ZM0fVUugLdVK"
      }
    },
    {
      "cell_type": "markdown",
      "metadata": {
        "id": "R4JgDAcNbmku"
      },
      "source": [
        "\n",
        "# Занятие 28. Кластеризация. Решение задач.\n",
        "\n"
      ]
    },
    {
      "cell_type": "markdown",
      "source": [
        "Теоретический материал с описанием алгоритмов и задач кластеризации размещён в презентации к занятию."
      ],
      "metadata": {
        "id": "5uNygzcCzPjO"
      }
    },
    {
      "cell_type": "code",
      "source": [
        "import pandas as pd\n",
        "import numpy as np\n",
        "import matplotlib.pyplot as plt\n",
        "from sklearn.metrics import mean_squared_error \n",
        "from sklearn.metrics.pairwise import manhattan_distances\n",
        "from sklearn.metrics.pairwise import euclidean_distances\n",
        "from sklearn.metrics.pairwise import nan_euclidean_distances\n",
        "from sklearn.preprocessing import StandardScaler\n",
        "from sklearn.preprocessing import MinMaxScaler\n",
        "from sklearn.preprocessing import OrdinalEncoder\n",
        "from sklearn.model_selection import train_test_split\n",
        "from sklearn.linear_model import LinearRegression\n",
        "from ml import print_LR_MSE_score"
      ],
      "metadata": {
        "id": "cftpqjD1s2pb"
      },
      "execution_count": null,
      "outputs": []
    },
    {
      "cell_type": "markdown",
      "source": [
        "## Использование метрик для выявления **похожих** объектов и заполнения пропущенных данных"
      ],
      "metadata": {
        "id": "uTk8Jn1BeaBM"
      }
    },
    {
      "cell_type": "markdown",
      "source": [
        "На прошлом занятии мы разобрали алгоритм заполнения пропущенных данных на основе различных метрик. "
      ],
      "metadata": {
        "id": "xKsG647MpACZ"
      }
    },
    {
      "cell_type": "markdown",
      "source": [
        "**Алгоритм 27.1**  \n",
        "\n",
        "\n",
        "Пусть у некоторого объекта $x_i$ значение признака $x_{ij}$ не определено (nan, некорректное значение, пропуск и т.д.).\n",
        "\n",
        "\n",
        "1.   Временно исключим из матрицы $x$ $j$-ый столбец (предполагая, что остальные ячейки в таблице нормальные). \n",
        "2.   Найдем расстояния (с помощью любой из рассмотренных метрик) от строки $x_i$ до остальных объектов таблицы. Получим $M$  матрицу расстояний. \n",
        "\n",
        "3. \n",
        "$$x_{ij}  = \\frac{1}{\\displaystyle\\sum_{k=1}^{m}{\\frac {1}{M_{ik}}}}\\displaystyle\\sum_{k=1}^{m}\\frac {x_{kj}}{M_{ik}} \n",
        "$$\n",
        "\n",
        "\n",
        "\n"
      ],
      "metadata": {
        "id": "K5HROv_AejEl"
      }
    },
    {
      "cell_type": "markdown",
      "source": [
        "##Задание 27.6 *\n",
        "\n",
        "Напишите универсальную функцию `fill_data(X, metric)`, которая получает на вход матрицу X, содержащую числовые значения и название метрики. Функция заполняет все пропущенные числовые значения в матрице X по алгоритму 27.1. "
      ],
      "metadata": {
        "id": "9peBEy9rk4bf"
      }
    },
    {
      "cell_type": "markdown",
      "source": [
        "Давайте обобщим это задание и напишем сразу функцию, которая заполняет пропущенные значения во всей матрице, даже в такой, где много пропущенных значений в одном столбце. "
      ],
      "metadata": {
        "id": "mCtLTr4Esbj2"
      }
    },
    {
      "cell_type": "markdown",
      "source": [
        "##Универсальная функция `fill_nan(X)`"
      ],
      "metadata": {
        "id": "V1d51318sw22"
      }
    },
    {
      "cell_type": "code",
      "source": [
        "X = np.array([[5., 5.,     5.,      3], \n",
        "              [5., 3.,     np.nan,  4], \n",
        "              [2., np.nan, np.nan,  5], \n",
        "              [3., 4.,     4,      np.nan]])"
      ],
      "metadata": {
        "id": "j0TAUOV-YgKj"
      },
      "execution_count": null,
      "outputs": []
    },
    {
      "cell_type": "markdown",
      "source": [
        "Сначала попробуем поэкспериментировать, а потом соберём результаты в одну функцию."
      ],
      "metadata": {
        "id": "jodA3s4j7tPu"
      }
    },
    {
      "cell_type": "markdown",
      "source": [
        "\n",
        "\n",
        "```\n",
        "# Выбран кодовый формат\n",
        "\n",
        "```\n",
        "# Выбран кодовый формат\n",
        "```\n",
        "\n",
        "\n",
        "```\n",
        "\n",
        "Начнейм с матрицы расстояний."
      ],
      "metadata": {
        "id": "XykOMRtE77v8"
      }
    },
    {
      "cell_type": "code",
      "source": [
        "M = nan_euclidean_distances(X)"
      ],
      "metadata": {
        "id": "GAxZuSIcrHIg"
      },
      "execution_count": null,
      "outputs": []
    },
    {
      "cell_type": "markdown",
      "source": [
        "Найдём позиции пропущенных значений."
      ],
      "metadata": {
        "id": "PdM_ic2F8BJK"
      }
    },
    {
      "cell_type": "code",
      "source": [
        "M"
      ],
      "metadata": {
        "id": "JNjsxEsfrP6o",
        "colab": {
          "base_uri": "https://localhost:8080/"
        },
        "outputId": "0d42bfde-6d92-4bf6-afaf-93c44602a8e4"
      },
      "execution_count": null,
      "outputs": [
        {
          "output_type": "execute_result",
          "data": {
            "text/plain": [
              "array([[0.        , 2.5819889 , 5.09901951, 2.82842712],\n",
              "       [2.5819889 , 0.        , 4.47213595, 3.16227766],\n",
              "       [5.09901951, 4.47213595, 0.        , 2.        ],\n",
              "       [2.82842712, 3.16227766, 2.        , 0.        ]])"
            ]
          },
          "metadata": {},
          "execution_count": 4
        }
      ]
    },
    {
      "cell_type": "code",
      "source": [
        "np.where(np.isnan(X))"
      ],
      "metadata": {
        "colab": {
          "base_uri": "https://localhost:8080/"
        },
        "id": "2XYmfnjOsqHQ",
        "outputId": "437f7d38-9734-4615-82d3-e5ea93acadd1"
      },
      "execution_count": null,
      "outputs": [
        {
          "output_type": "execute_result",
          "data": {
            "text/plain": [
              "(array([1, 2, 2, 3]), array([2, 1, 2, 3]))"
            ]
          },
          "metadata": {},
          "execution_count": 5
        }
      ]
    },
    {
      "cell_type": "code",
      "source": [
        "II, JJ = np.where(np.isnan(X))"
      ],
      "metadata": {
        "id": "M4W8C-nztB2Q"
      },
      "execution_count": null,
      "outputs": []
    },
    {
      "cell_type": "code",
      "source": [
        "i = 0\n",
        "mask = M[i, :] != 0"
      ],
      "metadata": {
        "id": "WuR2tKbptJUp"
      },
      "execution_count": null,
      "outputs": []
    },
    {
      "cell_type": "code",
      "source": [
        "mask"
      ],
      "metadata": {
        "colab": {
          "base_uri": "https://localhost:8080/"
        },
        "id": "Dz7jOUTeuoao",
        "outputId": "6a05338d-5c74-4b54-acb0-041d8130eb96"
      },
      "execution_count": null,
      "outputs": [
        {
          "output_type": "execute_result",
          "data": {
            "text/plain": [
              "array([False,  True,  True,  True])"
            ]
          },
          "metadata": {},
          "execution_count": 8
        }
      ]
    },
    {
      "cell_type": "markdown",
      "source": [
        "Фактически мы оказались в ситуации, когда определены `i` и `j` для решения задания 27.5, что мы писали на прошлом занятии. Попробуем обобщить его так, чтобы тот алгоритм работал в условии, когда надо работать с nan-значениями.   \n",
        "Во-первых, зафиксируем метрику, которая умеет это делать - `nan_euclidean_distances()`.   \n",
        "Во-вторых, вместо `np.sum()` будем использовать `np.nansum()`. "
      ],
      "metadata": {
        "id": "UWrbKUgT8RCX"
      }
    },
    {
      "cell_type": "code",
      "source": [
        "def fill_nan(X):\n",
        "    \"\"\" \n",
        "    Заполняет все nan-значения в нормализованном \n",
        "    двумерном массиве X (np.array()) в соответствии с алгоритмом 27.1. \n",
        "    Возвращает полученный массив.\n",
        "\n",
        "    \"\"\"\n",
        "    M = nan_euclidean_distances(X)\n",
        "    II, JJ = np.where(np.isnan(X))\n",
        "    for i, j in zip(II, JJ):\n",
        "        mask = M[i, :] != 0\n",
        "        z = np.nansum(1/M[i, mask])\n",
        "        s = np.nansum(X[mask, j]/M[i, mask])\n",
        "        X[i, j] = s/z\n",
        "  \n",
        "    return X\n",
        "    "
      ],
      "metadata": {
        "id": "xFje74L8oPVQ"
      },
      "execution_count": null,
      "outputs": []
    },
    {
      "cell_type": "code",
      "source": [
        "X"
      ],
      "metadata": {
        "colab": {
          "base_uri": "https://localhost:8080/"
        },
        "id": "JfTy7_VrveB_",
        "outputId": "392376f2-43ff-4293-ea8f-8801fe5e4fba"
      },
      "execution_count": null,
      "outputs": [
        {
          "output_type": "execute_result",
          "data": {
            "text/plain": [
              "array([[ 5.,  5.,  5.,  3.],\n",
              "       [ 5.,  3., nan,  4.],\n",
              "       [ 2., nan, nan,  5.],\n",
              "       [ 3.,  4.,  4., nan]])"
            ]
          },
          "metadata": {},
          "execution_count": 10
        }
      ]
    },
    {
      "cell_type": "code",
      "source": [
        "fill_nan(X)"
      ],
      "metadata": {
        "id": "1LZhGevdqbt9",
        "colab": {
          "base_uri": "https://localhost:8080/"
        },
        "outputId": "f4edb148-d9f3-42a9-f481-1f8723abedc2"
      },
      "execution_count": null,
      "outputs": [
        {
          "output_type": "execute_result",
          "data": {
            "text/plain": [
              "array([[5.        , 5.        , 5.        , 3.        ],\n",
              "       [5.        , 3.        , 3.45301385, 4.        ],\n",
              "       [2.        , 3.97010984, 4.08024842, 5.        ],\n",
              "       [3.        , 4.        , 4.        , 4.12519146]])"
            ]
          },
          "metadata": {},
          "execution_count": 11
        }
      ]
    },
    {
      "cell_type": "markdown",
      "metadata": {
        "id": "xT0V6lh9aHGK"
      },
      "source": [
        "##**Задание 27.7**\n",
        "\n",
        "В файле cwur_2019.csv находится таблица Мирового рейтинга университетов за 2019-2020 годы. К сожалению, не все значения заполнены корректно. Поэтому: \n",
        "\n",
        "\n",
        "\n",
        "1.   Постарайтесь заполнить пропущенные значения в матрице исходя из алгоритма 27.1 или 27.2 .  \n",
        "2.   Постройте модель линейной регрессии для предсказания признака score.  \n",
        "\n",
        "Улучшился ли коэффициент детерминации модели и MSE в стравнении с решением задания 26.6?\n",
        "\n",
        "\n",
        "\n",
        "\n",
        "\n",
        "\n",
        "\n",
        " "
      ]
    },
    {
      "cell_type": "code",
      "source": [
        "df = pd.read_csv(\"cwur_2019.csv\")"
      ],
      "metadata": {
        "id": "MMjTE5FwtfZL",
        "outputId": "0b42e100-6a91-4e46-de19-dce7e8cca58e",
        "colab": {
          "base_uri": "https://localhost:8080/",
          "height": 166
        }
      },
      "execution_count": null,
      "outputs": [
        {
          "output_type": "error",
          "ename": "NameError",
          "evalue": "ignored",
          "traceback": [
            "\u001b[0;31m---------------------------------------------------------------------------\u001b[0m",
            "\u001b[0;31mNameError\u001b[0m                                 Traceback (most recent call last)",
            "\u001b[0;32m<ipython-input-1-6891ed8b9987>\u001b[0m in \u001b[0;36m<cell line: 1>\u001b[0;34m()\u001b[0m\n\u001b[0;32m----> 1\u001b[0;31m \u001b[0mdf\u001b[0m \u001b[0;34m=\u001b[0m \u001b[0mpd\u001b[0m\u001b[0;34m.\u001b[0m\u001b[0mread_csv\u001b[0m\u001b[0;34m(\u001b[0m\u001b[0;34m\"cwur_2019.csv\"\u001b[0m\u001b[0;34m)\u001b[0m\u001b[0;34m\u001b[0m\u001b[0;34m\u001b[0m\u001b[0m\n\u001b[0m",
            "\u001b[0;31mNameError\u001b[0m: name 'pd' is not defined"
          ]
        }
      ]
    },
    {
      "cell_type": "markdown",
      "source": [
        "Заменим пропуски на `np.nan`."
      ],
      "metadata": {
        "id": "7eaWrGjPbp94"
      }
    },
    {
      "cell_type": "code",
      "source": [
        "df = df.replace('-', np.nan)"
      ],
      "metadata": {
        "id": "MCkZUktCt29x"
      },
      "execution_count": null,
      "outputs": []
    },
    {
      "cell_type": "code",
      "source": [],
      "metadata": {
        "id": "4rnRPjEOazWV"
      },
      "execution_count": null,
      "outputs": []
    },
    {
      "cell_type": "code",
      "source": [
        "for c in col:  ## здесь с col проблема. \n",
        "  df[c] = pd.to_numeric(df[c])\n",
        "  \n",
        "  ##df[c] = pd.to_number(df[c])\n",
        "\n",
        "  ## не подскажете в чём здесь ошибка"
      ],
      "metadata": {
        "id": "bO6VNXcOuAcB",
        "colab": {
          "base_uri": "https://localhost:8080/",
          "height": 236
        },
        "outputId": "736889f2-51cb-4424-dc30-5b48e95d43e4"
      },
      "execution_count": null,
      "outputs": [
        {
          "output_type": "error",
          "ename": "NameError",
          "evalue": "ignored",
          "traceback": [
            "\u001b[0;31m---------------------------------------------------------------------------\u001b[0m",
            "\u001b[0;31mNameError\u001b[0m                                 Traceback (most recent call last)",
            "\u001b[0;32m<ipython-input-20-609a4a2c25cc>\u001b[0m in \u001b[0;36m<module>\u001b[0;34m\u001b[0m\n\u001b[0;32m----> 1\u001b[0;31m \u001b[0;32mfor\u001b[0m \u001b[0mc\u001b[0m \u001b[0;32min\u001b[0m \u001b[0mcol\u001b[0m\u001b[0;34m:\u001b[0m\u001b[0;34m\u001b[0m\u001b[0;34m\u001b[0m\u001b[0m\n\u001b[0m\u001b[1;32m      2\u001b[0m   \u001b[0mdf\u001b[0m\u001b[0;34m[\u001b[0m\u001b[0mc\u001b[0m\u001b[0;34m]\u001b[0m \u001b[0;34m=\u001b[0m \u001b[0mpd\u001b[0m\u001b[0;34m.\u001b[0m\u001b[0mto_numeric\u001b[0m\u001b[0;34m(\u001b[0m\u001b[0mdf\u001b[0m\u001b[0;34m[\u001b[0m\u001b[0mc\u001b[0m\u001b[0;34m]\u001b[0m\u001b[0;34m)\u001b[0m\u001b[0;34m\u001b[0m\u001b[0;34m\u001b[0m\u001b[0m\n\u001b[1;32m      3\u001b[0m \u001b[0;34m\u001b[0m\u001b[0m\n\u001b[1;32m      4\u001b[0m   \u001b[0;31m##df[c] = pd.to_number(df[c])\u001b[0m\u001b[0;34m\u001b[0m\u001b[0;34m\u001b[0m\u001b[0m\n\u001b[1;32m      5\u001b[0m \u001b[0;34m\u001b[0m\u001b[0m\n",
            "\u001b[0;31mNameError\u001b[0m: name 'col' is not defined"
          ]
        }
      ]
    },
    {
      "cell_type": "code",
      "source": [
        "df.info()"
      ],
      "metadata": {
        "id": "bqWieQX-vNa6",
        "colab": {
          "base_uri": "https://localhost:8080/"
        },
        "outputId": "5f4de3e2-5010-4d44-8a09-1466993aee83"
      },
      "execution_count": null,
      "outputs": [
        {
          "output_type": "stream",
          "name": "stdout",
          "text": [
            "<class 'pandas.core.frame.DataFrame'>\n",
            "RangeIndex: 2000 entries, 0 to 1999\n",
            "Data columns (total 9 columns):\n",
            " #   Column                Non-Null Count  Dtype  \n",
            "---  ------                --------------  -----  \n",
            " 0   world_rank            2000 non-null   int64  \n",
            " 1   institution           2000 non-null   object \n",
            " 2   location              2000 non-null   object \n",
            " 3   national_rank         2000 non-null   int64  \n",
            " 4   education_quality     418 non-null    object \n",
            " 5   alumni_employment     952 non-null    object \n",
            " 6   faculty_quality       247 non-null    object \n",
            " 7   research_performance  1946 non-null   object \n",
            " 8   score                 2000 non-null   float64\n",
            "dtypes: float64(1), int64(2), object(6)\n",
            "memory usage: 140.8+ KB\n"
          ]
        }
      ]
    },
    {
      "cell_type": "code",
      "source": [
        "col = ['education_quality', 'alumni_employment',]"
      ],
      "metadata": {
        "id": "5j_KjdQFxuhE"
      },
      "execution_count": null,
      "outputs": []
    },
    {
      "cell_type": "code",
      "source": [
        "df.location"
      ],
      "metadata": {
        "colab": {
          "base_uri": "https://localhost:8080/"
        },
        "id": "YKA2giYCyYu4",
        "outputId": "8cbeac78-2e93-4ab0-85fc-72ac83c6d987"
      },
      "execution_count": null,
      "outputs": [
        {
          "output_type": "execute_result",
          "data": {
            "text/plain": [
              "0                  USA\n",
              "1                  USA\n",
              "2                  USA\n",
              "3       United Kingdom\n",
              "4       United Kingdom\n",
              "             ...      \n",
              "1995           Austria\n",
              "1996         Argentina\n",
              "1997             India\n",
              "1998            Turkey\n",
              "1999          Pakistan\n",
              "Name: location, Length: 2000, dtype: object"
            ]
          },
          "metadata": {},
          "execution_count": 23
        }
      ]
    },
    {
      "cell_type": "markdown",
      "source": [
        "## Кодирование категориальных признаков"
      ],
      "metadata": {
        "id": "PlWyQwNQwM6u"
      }
    },
    {
      "cell_type": "markdown",
      "source": [
        "Категориальные признаки могут содержать информацию, в значительной степени влияющую на прогноз. Поэтому их следует преобразовать в числовые. "
      ],
      "metadata": {
        "id": "L2vzdOOlSyok"
      }
    },
    {
      "cell_type": "markdown",
      "source": [
        "Используем для этого готовый класс."
      ],
      "metadata": {
        "id": "7uN72KdtTDss"
      }
    },
    {
      "cell_type": "code",
      "source": [
        "enc = OrdinalEncoder()"
      ],
      "metadata": {
        "id": "PMBS0Jg9wO5o"
      },
      "execution_count": null,
      "outputs": []
    },
    {
      "cell_type": "code",
      "source": [
        "T = np.array([['male', 'US'],\n",
        "              ['female', 'Russia']])"
      ],
      "metadata": {
        "id": "n2ETrDvoym56"
      },
      "execution_count": null,
      "outputs": []
    },
    {
      "cell_type": "code",
      "source": [
        "enc.fit(T)"
      ],
      "metadata": {
        "colab": {
          "base_uri": "https://localhost:8080/",
          "height": 76
        },
        "id": "Dk-rO-6azE45",
        "outputId": "cf265515-dd19-4283-88a3-4555f9e19305"
      },
      "execution_count": null,
      "outputs": [
        {
          "output_type": "execute_result",
          "data": {
            "text/plain": [
              "OrdinalEncoder()"
            ],
            "text/html": [
              "<style>#sk-container-id-1 {color: black;background-color: white;}#sk-container-id-1 pre{padding: 0;}#sk-container-id-1 div.sk-toggleable {background-color: white;}#sk-container-id-1 label.sk-toggleable__label {cursor: pointer;display: block;width: 100%;margin-bottom: 0;padding: 0.3em;box-sizing: border-box;text-align: center;}#sk-container-id-1 label.sk-toggleable__label-arrow:before {content: \"▸\";float: left;margin-right: 0.25em;color: #696969;}#sk-container-id-1 label.sk-toggleable__label-arrow:hover:before {color: black;}#sk-container-id-1 div.sk-estimator:hover label.sk-toggleable__label-arrow:before {color: black;}#sk-container-id-1 div.sk-toggleable__content {max-height: 0;max-width: 0;overflow: hidden;text-align: left;background-color: #f0f8ff;}#sk-container-id-1 div.sk-toggleable__content pre {margin: 0.2em;color: black;border-radius: 0.25em;background-color: #f0f8ff;}#sk-container-id-1 input.sk-toggleable__control:checked~div.sk-toggleable__content {max-height: 200px;max-width: 100%;overflow: auto;}#sk-container-id-1 input.sk-toggleable__control:checked~label.sk-toggleable__label-arrow:before {content: \"▾\";}#sk-container-id-1 div.sk-estimator input.sk-toggleable__control:checked~label.sk-toggleable__label {background-color: #d4ebff;}#sk-container-id-1 div.sk-label input.sk-toggleable__control:checked~label.sk-toggleable__label {background-color: #d4ebff;}#sk-container-id-1 input.sk-hidden--visually {border: 0;clip: rect(1px 1px 1px 1px);clip: rect(1px, 1px, 1px, 1px);height: 1px;margin: -1px;overflow: hidden;padding: 0;position: absolute;width: 1px;}#sk-container-id-1 div.sk-estimator {font-family: monospace;background-color: #f0f8ff;border: 1px dotted black;border-radius: 0.25em;box-sizing: border-box;margin-bottom: 0.5em;}#sk-container-id-1 div.sk-estimator:hover {background-color: #d4ebff;}#sk-container-id-1 div.sk-parallel-item::after {content: \"\";width: 100%;border-bottom: 1px solid gray;flex-grow: 1;}#sk-container-id-1 div.sk-label:hover label.sk-toggleable__label {background-color: #d4ebff;}#sk-container-id-1 div.sk-serial::before {content: \"\";position: absolute;border-left: 1px solid gray;box-sizing: border-box;top: 0;bottom: 0;left: 50%;z-index: 0;}#sk-container-id-1 div.sk-serial {display: flex;flex-direction: column;align-items: center;background-color: white;padding-right: 0.2em;padding-left: 0.2em;position: relative;}#sk-container-id-1 div.sk-item {position: relative;z-index: 1;}#sk-container-id-1 div.sk-parallel {display: flex;align-items: stretch;justify-content: center;background-color: white;position: relative;}#sk-container-id-1 div.sk-item::before, #sk-container-id-1 div.sk-parallel-item::before {content: \"\";position: absolute;border-left: 1px solid gray;box-sizing: border-box;top: 0;bottom: 0;left: 50%;z-index: -1;}#sk-container-id-1 div.sk-parallel-item {display: flex;flex-direction: column;z-index: 1;position: relative;background-color: white;}#sk-container-id-1 div.sk-parallel-item:first-child::after {align-self: flex-end;width: 50%;}#sk-container-id-1 div.sk-parallel-item:last-child::after {align-self: flex-start;width: 50%;}#sk-container-id-1 div.sk-parallel-item:only-child::after {width: 0;}#sk-container-id-1 div.sk-dashed-wrapped {border: 1px dashed gray;margin: 0 0.4em 0.5em 0.4em;box-sizing: border-box;padding-bottom: 0.4em;background-color: white;}#sk-container-id-1 div.sk-label label {font-family: monospace;font-weight: bold;display: inline-block;line-height: 1.2em;}#sk-container-id-1 div.sk-label-container {text-align: center;}#sk-container-id-1 div.sk-container {/* jupyter's `normalize.less` sets `[hidden] { display: none; }` but bootstrap.min.css set `[hidden] { display: none !important; }` so we also need the `!important` here to be able to override the default hidden behavior on the sphinx rendered scikit-learn.org. See: https://github.com/scikit-learn/scikit-learn/issues/21755 */display: inline-block !important;position: relative;}#sk-container-id-1 div.sk-text-repr-fallback {display: none;}</style><div id=\"sk-container-id-1\" class=\"sk-top-container\"><div class=\"sk-text-repr-fallback\"><pre>OrdinalEncoder()</pre><b>In a Jupyter environment, please rerun this cell to show the HTML representation or trust the notebook. <br />On GitHub, the HTML representation is unable to render, please try loading this page with nbviewer.org.</b></div><div class=\"sk-container\" hidden><div class=\"sk-item\"><div class=\"sk-estimator sk-toggleable\"><input class=\"sk-toggleable__control sk-hidden--visually\" id=\"sk-estimator-id-1\" type=\"checkbox\" checked><label for=\"sk-estimator-id-1\" class=\"sk-toggleable__label sk-toggleable__label-arrow\">OrdinalEncoder</label><div class=\"sk-toggleable__content\"><pre>OrdinalEncoder()</pre></div></div></div></div></div>"
            ]
          },
          "metadata": {},
          "execution_count": 28
        }
      ]
    },
    {
      "cell_type": "code",
      "source": [
        "enc.transform(T)"
      ],
      "metadata": {
        "colab": {
          "base_uri": "https://localhost:8080/"
        },
        "id": "LcMZ7BZXzRHs",
        "outputId": "989866fa-60ae-4971-db9f-ee8678ed8ab4"
      },
      "execution_count": null,
      "outputs": [
        {
          "output_type": "execute_result",
          "data": {
            "text/plain": [
              "array([[1., 1.],\n",
              "       [0., 0.]])"
            ]
          },
          "metadata": {},
          "execution_count": 29
        }
      ]
    },
    {
      "cell_type": "code",
      "source": [
        "locs = df.location.values"
      ],
      "metadata": {
        "id": "jeUY2QLUzeMI"
      },
      "execution_count": null,
      "outputs": []
    },
    {
      "cell_type": "code",
      "source": [
        "enc.fit(locs.reshape(-1, 1))"
      ],
      "metadata": {
        "colab": {
          "base_uri": "https://localhost:8080/",
          "height": 76
        },
        "id": "MXAAgQauzlVO",
        "outputId": "62c4f4b1-be8a-4972-93bd-de6e53cb3026"
      },
      "execution_count": null,
      "outputs": [
        {
          "output_type": "execute_result",
          "data": {
            "text/plain": [
              "OrdinalEncoder()"
            ],
            "text/html": [
              "<style>#sk-container-id-2 {color: black;background-color: white;}#sk-container-id-2 pre{padding: 0;}#sk-container-id-2 div.sk-toggleable {background-color: white;}#sk-container-id-2 label.sk-toggleable__label {cursor: pointer;display: block;width: 100%;margin-bottom: 0;padding: 0.3em;box-sizing: border-box;text-align: center;}#sk-container-id-2 label.sk-toggleable__label-arrow:before {content: \"▸\";float: left;margin-right: 0.25em;color: #696969;}#sk-container-id-2 label.sk-toggleable__label-arrow:hover:before {color: black;}#sk-container-id-2 div.sk-estimator:hover label.sk-toggleable__label-arrow:before {color: black;}#sk-container-id-2 div.sk-toggleable__content {max-height: 0;max-width: 0;overflow: hidden;text-align: left;background-color: #f0f8ff;}#sk-container-id-2 div.sk-toggleable__content pre {margin: 0.2em;color: black;border-radius: 0.25em;background-color: #f0f8ff;}#sk-container-id-2 input.sk-toggleable__control:checked~div.sk-toggleable__content {max-height: 200px;max-width: 100%;overflow: auto;}#sk-container-id-2 input.sk-toggleable__control:checked~label.sk-toggleable__label-arrow:before {content: \"▾\";}#sk-container-id-2 div.sk-estimator input.sk-toggleable__control:checked~label.sk-toggleable__label {background-color: #d4ebff;}#sk-container-id-2 div.sk-label input.sk-toggleable__control:checked~label.sk-toggleable__label {background-color: #d4ebff;}#sk-container-id-2 input.sk-hidden--visually {border: 0;clip: rect(1px 1px 1px 1px);clip: rect(1px, 1px, 1px, 1px);height: 1px;margin: -1px;overflow: hidden;padding: 0;position: absolute;width: 1px;}#sk-container-id-2 div.sk-estimator {font-family: monospace;background-color: #f0f8ff;border: 1px dotted black;border-radius: 0.25em;box-sizing: border-box;margin-bottom: 0.5em;}#sk-container-id-2 div.sk-estimator:hover {background-color: #d4ebff;}#sk-container-id-2 div.sk-parallel-item::after {content: \"\";width: 100%;border-bottom: 1px solid gray;flex-grow: 1;}#sk-container-id-2 div.sk-label:hover label.sk-toggleable__label {background-color: #d4ebff;}#sk-container-id-2 div.sk-serial::before {content: \"\";position: absolute;border-left: 1px solid gray;box-sizing: border-box;top: 0;bottom: 0;left: 50%;z-index: 0;}#sk-container-id-2 div.sk-serial {display: flex;flex-direction: column;align-items: center;background-color: white;padding-right: 0.2em;padding-left: 0.2em;position: relative;}#sk-container-id-2 div.sk-item {position: relative;z-index: 1;}#sk-container-id-2 div.sk-parallel {display: flex;align-items: stretch;justify-content: center;background-color: white;position: relative;}#sk-container-id-2 div.sk-item::before, #sk-container-id-2 div.sk-parallel-item::before {content: \"\";position: absolute;border-left: 1px solid gray;box-sizing: border-box;top: 0;bottom: 0;left: 50%;z-index: -1;}#sk-container-id-2 div.sk-parallel-item {display: flex;flex-direction: column;z-index: 1;position: relative;background-color: white;}#sk-container-id-2 div.sk-parallel-item:first-child::after {align-self: flex-end;width: 50%;}#sk-container-id-2 div.sk-parallel-item:last-child::after {align-self: flex-start;width: 50%;}#sk-container-id-2 div.sk-parallel-item:only-child::after {width: 0;}#sk-container-id-2 div.sk-dashed-wrapped {border: 1px dashed gray;margin: 0 0.4em 0.5em 0.4em;box-sizing: border-box;padding-bottom: 0.4em;background-color: white;}#sk-container-id-2 div.sk-label label {font-family: monospace;font-weight: bold;display: inline-block;line-height: 1.2em;}#sk-container-id-2 div.sk-label-container {text-align: center;}#sk-container-id-2 div.sk-container {/* jupyter's `normalize.less` sets `[hidden] { display: none; }` but bootstrap.min.css set `[hidden] { display: none !important; }` so we also need the `!important` here to be able to override the default hidden behavior on the sphinx rendered scikit-learn.org. See: https://github.com/scikit-learn/scikit-learn/issues/21755 */display: inline-block !important;position: relative;}#sk-container-id-2 div.sk-text-repr-fallback {display: none;}</style><div id=\"sk-container-id-2\" class=\"sk-top-container\"><div class=\"sk-text-repr-fallback\"><pre>OrdinalEncoder()</pre><b>In a Jupyter environment, please rerun this cell to show the HTML representation or trust the notebook. <br />On GitHub, the HTML representation is unable to render, please try loading this page with nbviewer.org.</b></div><div class=\"sk-container\" hidden><div class=\"sk-item\"><div class=\"sk-estimator sk-toggleable\"><input class=\"sk-toggleable__control sk-hidden--visually\" id=\"sk-estimator-id-2\" type=\"checkbox\" checked><label for=\"sk-estimator-id-2\" class=\"sk-toggleable__label sk-toggleable__label-arrow\">OrdinalEncoder</label><div class=\"sk-toggleable__content\"><pre>OrdinalEncoder()</pre></div></div></div></div></div>"
            ]
          },
          "metadata": {},
          "execution_count": 31
        }
      ]
    },
    {
      "cell_type": "code",
      "source": [
        "locs = enc.transform(locs.reshape(-1,1))"
      ],
      "metadata": {
        "id": "HLC2wRm_0F5Q"
      },
      "execution_count": null,
      "outputs": []
    },
    {
      "cell_type": "code",
      "source": [
        "df.location = locs"
      ],
      "metadata": {
        "id": "33xjsYlc0b4A"
      },
      "execution_count": null,
      "outputs": []
    },
    {
      "cell_type": "code",
      "source": [
        "df.head()"
      ],
      "metadata": {
        "colab": {
          "base_uri": "https://localhost:8080/",
          "height": 354
        },
        "id": "wwxD2UyF0jmk",
        "outputId": "47f7ed5a-3819-468c-e39a-b5e6b0a58920"
      },
      "execution_count": null,
      "outputs": [
        {
          "output_type": "execute_result",
          "data": {
            "text/plain": [
              "   world_rank                            institution  location  national_rank  \\\n",
              "0           1                     Harvard University      89.0              1   \n",
              "1           2  Massachusetts Institute of Technology      89.0              2   \n",
              "2           3                    Stanford University      89.0              3   \n",
              "3           4                University of Cambridge      93.0              1   \n",
              "4           5                   University of Oxford      93.0              2   \n",
              "\n",
              "  education_quality alumni_employment faculty_quality research_performance  \\\n",
              "0                 2                 1               1                    1   \n",
              "1                 1                10               2                    5   \n",
              "2                 9                 3               3                    2   \n",
              "3                 4                19               5                   11   \n",
              "4                10                24              10                    4   \n",
              "\n",
              "   score  \n",
              "0  100.0  \n",
              "1   96.7  \n",
              "2   95.2  \n",
              "3   94.1  \n",
              "4   93.3  "
            ],
            "text/html": [
              "\n",
              "  <div id=\"df-f7b8b65b-5cae-44d0-9dc9-58abfe475aad\">\n",
              "    <div class=\"colab-df-container\">\n",
              "      <div>\n",
              "<style scoped>\n",
              "    .dataframe tbody tr th:only-of-type {\n",
              "        vertical-align: middle;\n",
              "    }\n",
              "\n",
              "    .dataframe tbody tr th {\n",
              "        vertical-align: top;\n",
              "    }\n",
              "\n",
              "    .dataframe thead th {\n",
              "        text-align: right;\n",
              "    }\n",
              "</style>\n",
              "<table border=\"1\" class=\"dataframe\">\n",
              "  <thead>\n",
              "    <tr style=\"text-align: right;\">\n",
              "      <th></th>\n",
              "      <th>world_rank</th>\n",
              "      <th>institution</th>\n",
              "      <th>location</th>\n",
              "      <th>national_rank</th>\n",
              "      <th>education_quality</th>\n",
              "      <th>alumni_employment</th>\n",
              "      <th>faculty_quality</th>\n",
              "      <th>research_performance</th>\n",
              "      <th>score</th>\n",
              "    </tr>\n",
              "  </thead>\n",
              "  <tbody>\n",
              "    <tr>\n",
              "      <th>0</th>\n",
              "      <td>1</td>\n",
              "      <td>Harvard University</td>\n",
              "      <td>89.0</td>\n",
              "      <td>1</td>\n",
              "      <td>2</td>\n",
              "      <td>1</td>\n",
              "      <td>1</td>\n",
              "      <td>1</td>\n",
              "      <td>100.0</td>\n",
              "    </tr>\n",
              "    <tr>\n",
              "      <th>1</th>\n",
              "      <td>2</td>\n",
              "      <td>Massachusetts Institute of Technology</td>\n",
              "      <td>89.0</td>\n",
              "      <td>2</td>\n",
              "      <td>1</td>\n",
              "      <td>10</td>\n",
              "      <td>2</td>\n",
              "      <td>5</td>\n",
              "      <td>96.7</td>\n",
              "    </tr>\n",
              "    <tr>\n",
              "      <th>2</th>\n",
              "      <td>3</td>\n",
              "      <td>Stanford University</td>\n",
              "      <td>89.0</td>\n",
              "      <td>3</td>\n",
              "      <td>9</td>\n",
              "      <td>3</td>\n",
              "      <td>3</td>\n",
              "      <td>2</td>\n",
              "      <td>95.2</td>\n",
              "    </tr>\n",
              "    <tr>\n",
              "      <th>3</th>\n",
              "      <td>4</td>\n",
              "      <td>University of Cambridge</td>\n",
              "      <td>93.0</td>\n",
              "      <td>1</td>\n",
              "      <td>4</td>\n",
              "      <td>19</td>\n",
              "      <td>5</td>\n",
              "      <td>11</td>\n",
              "      <td>94.1</td>\n",
              "    </tr>\n",
              "    <tr>\n",
              "      <th>4</th>\n",
              "      <td>5</td>\n",
              "      <td>University of Oxford</td>\n",
              "      <td>93.0</td>\n",
              "      <td>2</td>\n",
              "      <td>10</td>\n",
              "      <td>24</td>\n",
              "      <td>10</td>\n",
              "      <td>4</td>\n",
              "      <td>93.3</td>\n",
              "    </tr>\n",
              "  </tbody>\n",
              "</table>\n",
              "</div>\n",
              "      <button class=\"colab-df-convert\" onclick=\"convertToInteractive('df-f7b8b65b-5cae-44d0-9dc9-58abfe475aad')\"\n",
              "              title=\"Convert this dataframe to an interactive table.\"\n",
              "              style=\"display:none;\">\n",
              "        \n",
              "  <svg xmlns=\"http://www.w3.org/2000/svg\" height=\"24px\"viewBox=\"0 0 24 24\"\n",
              "       width=\"24px\">\n",
              "    <path d=\"M0 0h24v24H0V0z\" fill=\"none\"/>\n",
              "    <path d=\"M18.56 5.44l.94 2.06.94-2.06 2.06-.94-2.06-.94-.94-2.06-.94 2.06-2.06.94zm-11 1L8.5 8.5l.94-2.06 2.06-.94-2.06-.94L8.5 2.5l-.94 2.06-2.06.94zm10 10l.94 2.06.94-2.06 2.06-.94-2.06-.94-.94-2.06-.94 2.06-2.06.94z\"/><path d=\"M17.41 7.96l-1.37-1.37c-.4-.4-.92-.59-1.43-.59-.52 0-1.04.2-1.43.59L10.3 9.45l-7.72 7.72c-.78.78-.78 2.05 0 2.83L4 21.41c.39.39.9.59 1.41.59.51 0 1.02-.2 1.41-.59l7.78-7.78 2.81-2.81c.8-.78.8-2.07 0-2.86zM5.41 20L4 18.59l7.72-7.72 1.47 1.35L5.41 20z\"/>\n",
              "  </svg>\n",
              "      </button>\n",
              "      \n",
              "  <style>\n",
              "    .colab-df-container {\n",
              "      display:flex;\n",
              "      flex-wrap:wrap;\n",
              "      gap: 12px;\n",
              "    }\n",
              "\n",
              "    .colab-df-convert {\n",
              "      background-color: #E8F0FE;\n",
              "      border: none;\n",
              "      border-radius: 50%;\n",
              "      cursor: pointer;\n",
              "      display: none;\n",
              "      fill: #1967D2;\n",
              "      height: 32px;\n",
              "      padding: 0 0 0 0;\n",
              "      width: 32px;\n",
              "    }\n",
              "\n",
              "    .colab-df-convert:hover {\n",
              "      background-color: #E2EBFA;\n",
              "      box-shadow: 0px 1px 2px rgba(60, 64, 67, 0.3), 0px 1px 3px 1px rgba(60, 64, 67, 0.15);\n",
              "      fill: #174EA6;\n",
              "    }\n",
              "\n",
              "    [theme=dark] .colab-df-convert {\n",
              "      background-color: #3B4455;\n",
              "      fill: #D2E3FC;\n",
              "    }\n",
              "\n",
              "    [theme=dark] .colab-df-convert:hover {\n",
              "      background-color: #434B5C;\n",
              "      box-shadow: 0px 1px 3px 1px rgba(0, 0, 0, 0.15);\n",
              "      filter: drop-shadow(0px 1px 2px rgba(0, 0, 0, 0.3));\n",
              "      fill: #FFFFFF;\n",
              "    }\n",
              "  </style>\n",
              "\n",
              "      <script>\n",
              "        const buttonEl =\n",
              "          document.querySelector('#df-f7b8b65b-5cae-44d0-9dc9-58abfe475aad button.colab-df-convert');\n",
              "        buttonEl.style.display =\n",
              "          google.colab.kernel.accessAllowed ? 'block' : 'none';\n",
              "\n",
              "        async function convertToInteractive(key) {\n",
              "          const element = document.querySelector('#df-f7b8b65b-5cae-44d0-9dc9-58abfe475aad');\n",
              "          const dataTable =\n",
              "            await google.colab.kernel.invokeFunction('convertToInteractive',\n",
              "                                                     [key], {});\n",
              "          if (!dataTable) return;\n",
              "\n",
              "          const docLinkHtml = 'Like what you see? Visit the ' +\n",
              "            '<a target=\"_blank\" href=https://colab.research.google.com/notebooks/data_table.ipynb>data table notebook</a>'\n",
              "            + ' to learn more about interactive tables.';\n",
              "          element.innerHTML = '';\n",
              "          dataTable['output_type'] = 'display_data';\n",
              "          await google.colab.output.renderOutput(dataTable, element);\n",
              "          const docLink = document.createElement('div');\n",
              "          docLink.innerHTML = docLinkHtml;\n",
              "          element.appendChild(docLink);\n",
              "        }\n",
              "      </script>\n",
              "    </div>\n",
              "  </div>\n",
              "  "
            ]
          },
          "metadata": {},
          "execution_count": 34
        }
      ]
    },
    {
      "cell_type": "code",
      "source": [
        "df.info()"
      ],
      "metadata": {
        "colab": {
          "base_uri": "https://localhost:8080/"
        },
        "id": "5s84Rp3r1fmt",
        "outputId": "784b79ff-99ab-4aa1-dea0-43d1ffbf8b47"
      },
      "execution_count": null,
      "outputs": [
        {
          "output_type": "stream",
          "name": "stdout",
          "text": [
            "<class 'pandas.core.frame.DataFrame'>\n",
            "RangeIndex: 2000 entries, 0 to 1999\n",
            "Data columns (total 9 columns):\n",
            " #   Column                Non-Null Count  Dtype  \n",
            "---  ------                --------------  -----  \n",
            " 0   world_rank            2000 non-null   int64  \n",
            " 1   institution           2000 non-null   object \n",
            " 2   location              2000 non-null   float64\n",
            " 3   national_rank         2000 non-null   int64  \n",
            " 4   education_quality     418 non-null    object \n",
            " 5   alumni_employment     952 non-null    object \n",
            " 6   faculty_quality       247 non-null    object \n",
            " 7   research_performance  1946 non-null   object \n",
            " 8   score                 2000 non-null   float64\n",
            "dtypes: float64(2), int64(2), object(5)\n",
            "memory usage: 140.8+ KB\n"
          ]
        }
      ]
    },
    {
      "cell_type": "code",
      "source": [
        "df.drop(['world_rank','institution'], axis = 1, inplace = True)"
      ],
      "metadata": {
        "id": "41KBsK6P16Ly"
      },
      "execution_count": null,
      "outputs": []
    },
    {
      "cell_type": "code",
      "source": [
        "y = df['score'].values"
      ],
      "metadata": {
        "id": "UOFIIUdd21vD"
      },
      "execution_count": null,
      "outputs": []
    },
    {
      "cell_type": "code",
      "source": [
        "type(y)"
      ],
      "metadata": {
        "colab": {
          "base_uri": "https://localhost:8080/"
        },
        "id": "zpcmxFWB29z9",
        "outputId": "89c0e580-2306-4b48-c06c-a09c47773300"
      },
      "execution_count": null,
      "outputs": [
        {
          "output_type": "execute_result",
          "data": {
            "text/plain": [
              "numpy.ndarray"
            ]
          },
          "metadata": {},
          "execution_count": 38
        }
      ]
    },
    {
      "cell_type": "code",
      "source": [
        "df.drop(['score'], axis = 1, inplace = True)"
      ],
      "metadata": {
        "id": "El5C6ma93GCi"
      },
      "execution_count": null,
      "outputs": []
    },
    {
      "cell_type": "code",
      "source": [
        "df"
      ],
      "metadata": {
        "colab": {
          "base_uri": "https://localhost:8080/",
          "height": 424
        },
        "id": "qEgvjXT03Mir",
        "outputId": "033c5486-96e9-41fd-b743-379721e84bd0"
      },
      "execution_count": null,
      "outputs": [
        {
          "output_type": "execute_result",
          "data": {
            "text/plain": [
              "      location  national_rank education_quality alumni_employment  \\\n",
              "0         89.0              1                 2                 1   \n",
              "1         89.0              2                 1                10   \n",
              "2         89.0              3                 9                 3   \n",
              "3         93.0              1                 4                19   \n",
              "4         93.0              2                10                24   \n",
              "...        ...            ...               ...               ...   \n",
              "1995       4.0             17               NaN               NaN   \n",
              "1996       1.0             11               NaN               NaN   \n",
              "1997      34.0             68               505              1035   \n",
              "1998      88.0             61               NaN               NaN   \n",
              "1999      62.0             11               NaN               NaN   \n",
              "\n",
              "     faculty_quality research_performance  \n",
              "0                  1                    1  \n",
              "1                  2                    5  \n",
              "2                  3                    2  \n",
              "3                  5                   11  \n",
              "4                 10                    4  \n",
              "...              ...                  ...  \n",
              "1995             NaN                 1931  \n",
              "1996             NaN                 1932  \n",
              "1997             NaN                 1942  \n",
              "1998             NaN                 1933  \n",
              "1999             NaN                 1934  \n",
              "\n",
              "[2000 rows x 6 columns]"
            ],
            "text/html": [
              "\n",
              "  <div id=\"df-8bba24f0-c699-4142-8720-f8e9348972de\">\n",
              "    <div class=\"colab-df-container\">\n",
              "      <div>\n",
              "<style scoped>\n",
              "    .dataframe tbody tr th:only-of-type {\n",
              "        vertical-align: middle;\n",
              "    }\n",
              "\n",
              "    .dataframe tbody tr th {\n",
              "        vertical-align: top;\n",
              "    }\n",
              "\n",
              "    .dataframe thead th {\n",
              "        text-align: right;\n",
              "    }\n",
              "</style>\n",
              "<table border=\"1\" class=\"dataframe\">\n",
              "  <thead>\n",
              "    <tr style=\"text-align: right;\">\n",
              "      <th></th>\n",
              "      <th>location</th>\n",
              "      <th>national_rank</th>\n",
              "      <th>education_quality</th>\n",
              "      <th>alumni_employment</th>\n",
              "      <th>faculty_quality</th>\n",
              "      <th>research_performance</th>\n",
              "    </tr>\n",
              "  </thead>\n",
              "  <tbody>\n",
              "    <tr>\n",
              "      <th>0</th>\n",
              "      <td>89.0</td>\n",
              "      <td>1</td>\n",
              "      <td>2</td>\n",
              "      <td>1</td>\n",
              "      <td>1</td>\n",
              "      <td>1</td>\n",
              "    </tr>\n",
              "    <tr>\n",
              "      <th>1</th>\n",
              "      <td>89.0</td>\n",
              "      <td>2</td>\n",
              "      <td>1</td>\n",
              "      <td>10</td>\n",
              "      <td>2</td>\n",
              "      <td>5</td>\n",
              "    </tr>\n",
              "    <tr>\n",
              "      <th>2</th>\n",
              "      <td>89.0</td>\n",
              "      <td>3</td>\n",
              "      <td>9</td>\n",
              "      <td>3</td>\n",
              "      <td>3</td>\n",
              "      <td>2</td>\n",
              "    </tr>\n",
              "    <tr>\n",
              "      <th>3</th>\n",
              "      <td>93.0</td>\n",
              "      <td>1</td>\n",
              "      <td>4</td>\n",
              "      <td>19</td>\n",
              "      <td>5</td>\n",
              "      <td>11</td>\n",
              "    </tr>\n",
              "    <tr>\n",
              "      <th>4</th>\n",
              "      <td>93.0</td>\n",
              "      <td>2</td>\n",
              "      <td>10</td>\n",
              "      <td>24</td>\n",
              "      <td>10</td>\n",
              "      <td>4</td>\n",
              "    </tr>\n",
              "    <tr>\n",
              "      <th>...</th>\n",
              "      <td>...</td>\n",
              "      <td>...</td>\n",
              "      <td>...</td>\n",
              "      <td>...</td>\n",
              "      <td>...</td>\n",
              "      <td>...</td>\n",
              "    </tr>\n",
              "    <tr>\n",
              "      <th>1995</th>\n",
              "      <td>4.0</td>\n",
              "      <td>17</td>\n",
              "      <td>NaN</td>\n",
              "      <td>NaN</td>\n",
              "      <td>NaN</td>\n",
              "      <td>1931</td>\n",
              "    </tr>\n",
              "    <tr>\n",
              "      <th>1996</th>\n",
              "      <td>1.0</td>\n",
              "      <td>11</td>\n",
              "      <td>NaN</td>\n",
              "      <td>NaN</td>\n",
              "      <td>NaN</td>\n",
              "      <td>1932</td>\n",
              "    </tr>\n",
              "    <tr>\n",
              "      <th>1997</th>\n",
              "      <td>34.0</td>\n",
              "      <td>68</td>\n",
              "      <td>505</td>\n",
              "      <td>1035</td>\n",
              "      <td>NaN</td>\n",
              "      <td>1942</td>\n",
              "    </tr>\n",
              "    <tr>\n",
              "      <th>1998</th>\n",
              "      <td>88.0</td>\n",
              "      <td>61</td>\n",
              "      <td>NaN</td>\n",
              "      <td>NaN</td>\n",
              "      <td>NaN</td>\n",
              "      <td>1933</td>\n",
              "    </tr>\n",
              "    <tr>\n",
              "      <th>1999</th>\n",
              "      <td>62.0</td>\n",
              "      <td>11</td>\n",
              "      <td>NaN</td>\n",
              "      <td>NaN</td>\n",
              "      <td>NaN</td>\n",
              "      <td>1934</td>\n",
              "    </tr>\n",
              "  </tbody>\n",
              "</table>\n",
              "<p>2000 rows × 6 columns</p>\n",
              "</div>\n",
              "      <button class=\"colab-df-convert\" onclick=\"convertToInteractive('df-8bba24f0-c699-4142-8720-f8e9348972de')\"\n",
              "              title=\"Convert this dataframe to an interactive table.\"\n",
              "              style=\"display:none;\">\n",
              "        \n",
              "  <svg xmlns=\"http://www.w3.org/2000/svg\" height=\"24px\"viewBox=\"0 0 24 24\"\n",
              "       width=\"24px\">\n",
              "    <path d=\"M0 0h24v24H0V0z\" fill=\"none\"/>\n",
              "    <path d=\"M18.56 5.44l.94 2.06.94-2.06 2.06-.94-2.06-.94-.94-2.06-.94 2.06-2.06.94zm-11 1L8.5 8.5l.94-2.06 2.06-.94-2.06-.94L8.5 2.5l-.94 2.06-2.06.94zm10 10l.94 2.06.94-2.06 2.06-.94-2.06-.94-.94-2.06-.94 2.06-2.06.94z\"/><path d=\"M17.41 7.96l-1.37-1.37c-.4-.4-.92-.59-1.43-.59-.52 0-1.04.2-1.43.59L10.3 9.45l-7.72 7.72c-.78.78-.78 2.05 0 2.83L4 21.41c.39.39.9.59 1.41.59.51 0 1.02-.2 1.41-.59l7.78-7.78 2.81-2.81c.8-.78.8-2.07 0-2.86zM5.41 20L4 18.59l7.72-7.72 1.47 1.35L5.41 20z\"/>\n",
              "  </svg>\n",
              "      </button>\n",
              "      \n",
              "  <style>\n",
              "    .colab-df-container {\n",
              "      display:flex;\n",
              "      flex-wrap:wrap;\n",
              "      gap: 12px;\n",
              "    }\n",
              "\n",
              "    .colab-df-convert {\n",
              "      background-color: #E8F0FE;\n",
              "      border: none;\n",
              "      border-radius: 50%;\n",
              "      cursor: pointer;\n",
              "      display: none;\n",
              "      fill: #1967D2;\n",
              "      height: 32px;\n",
              "      padding: 0 0 0 0;\n",
              "      width: 32px;\n",
              "    }\n",
              "\n",
              "    .colab-df-convert:hover {\n",
              "      background-color: #E2EBFA;\n",
              "      box-shadow: 0px 1px 2px rgba(60, 64, 67, 0.3), 0px 1px 3px 1px rgba(60, 64, 67, 0.15);\n",
              "      fill: #174EA6;\n",
              "    }\n",
              "\n",
              "    [theme=dark] .colab-df-convert {\n",
              "      background-color: #3B4455;\n",
              "      fill: #D2E3FC;\n",
              "    }\n",
              "\n",
              "    [theme=dark] .colab-df-convert:hover {\n",
              "      background-color: #434B5C;\n",
              "      box-shadow: 0px 1px 3px 1px rgba(0, 0, 0, 0.15);\n",
              "      filter: drop-shadow(0px 1px 2px rgba(0, 0, 0, 0.3));\n",
              "      fill: #FFFFFF;\n",
              "    }\n",
              "  </style>\n",
              "\n",
              "      <script>\n",
              "        const buttonEl =\n",
              "          document.querySelector('#df-8bba24f0-c699-4142-8720-f8e9348972de button.colab-df-convert');\n",
              "        buttonEl.style.display =\n",
              "          google.colab.kernel.accessAllowed ? 'block' : 'none';\n",
              "\n",
              "        async function convertToInteractive(key) {\n",
              "          const element = document.querySelector('#df-8bba24f0-c699-4142-8720-f8e9348972de');\n",
              "          const dataTable =\n",
              "            await google.colab.kernel.invokeFunction('convertToInteractive',\n",
              "                                                     [key], {});\n",
              "          if (!dataTable) return;\n",
              "\n",
              "          const docLinkHtml = 'Like what you see? Visit the ' +\n",
              "            '<a target=\"_blank\" href=https://colab.research.google.com/notebooks/data_table.ipynb>data table notebook</a>'\n",
              "            + ' to learn more about interactive tables.';\n",
              "          element.innerHTML = '';\n",
              "          dataTable['output_type'] = 'display_data';\n",
              "          await google.colab.output.renderOutput(dataTable, element);\n",
              "          const docLink = document.createElement('div');\n",
              "          docLink.innerHTML = docLinkHtml;\n",
              "          element.appendChild(docLink);\n",
              "        }\n",
              "      </script>\n",
              "    </div>\n",
              "  </div>\n",
              "  "
            ]
          },
          "metadata": {},
          "execution_count": 40
        }
      ]
    },
    {
      "cell_type": "markdown",
      "source": [
        "##Масштабирование данных"
      ],
      "metadata": {
        "id": "pvXHEjVX0Jk4"
      }
    },
    {
      "cell_type": "markdown",
      "source": [
        "Мы использовали собственные функции для нормализации (масштабирования) данных. Теперь используем классы, объявленные в `sklearn.preprocessing`."
      ],
      "metadata": {
        "id": "QlnEolQvLM-b"
      }
    },
    {
      "cell_type": "markdown",
      "source": [
        "###StandardScaler() "
      ],
      "metadata": {
        "id": "L3URTMuzLl91"
      }
    },
    {
      "cell_type": "code",
      "source": [
        "A = np.array([[10, 100, 1], \n",
        "              [50, 950, 0.5], \n",
        "              [99, 290, 0.2]])"
      ],
      "metadata": {
        "id": "wj-Ndkw511vf"
      },
      "execution_count": null,
      "outputs": []
    },
    {
      "cell_type": "code",
      "source": [
        "scaler = StandardScaler()\n",
        "A_scaled = scaler.fit_transform(A)\n"
      ],
      "metadata": {
        "id": "FklIlyB50nGc"
      },
      "execution_count": null,
      "outputs": []
    },
    {
      "cell_type": "code",
      "source": [
        "A_scaled"
      ],
      "metadata": {
        "colab": {
          "base_uri": "https://localhost:8080/"
        },
        "id": "PWIfOWgN4x_4",
        "outputId": "90877317-5e8f-440b-f530-986b30aadcc8"
      },
      "execution_count": null,
      "outputs": [
        {
          "output_type": "execute_result",
          "data": {
            "text/plain": [
              "array([[-1.18144947, -0.95168847,  1.31319831],\n",
              "       [-0.08242671,  1.38177845, -0.20203051],\n",
              "       [ 1.26387618, -0.43008998, -1.1111678 ]])"
            ]
          },
          "metadata": {},
          "execution_count": 43
        }
      ]
    },
    {
      "cell_type": "code",
      "source": [],
      "metadata": {
        "id": "TEj9NFzk4x6W"
      },
      "execution_count": null,
      "outputs": []
    },
    {
      "cell_type": "markdown",
      "source": [
        "###MinMaxScaler()"
      ],
      "metadata": {
        "id": "ty3RtBW7LspB"
      }
    },
    {
      "cell_type": "code",
      "source": [
        "scaler = MinMaxScaler()\n",
        "A_scaled = scaler.fit_transform(A)"
      ],
      "metadata": {
        "id": "gXI10LhGcCwF"
      },
      "execution_count": null,
      "outputs": []
    },
    {
      "cell_type": "code",
      "source": [
        "A_scaled"
      ],
      "metadata": {
        "colab": {
          "base_uri": "https://localhost:8080/"
        },
        "id": "hRNaO2PK5XtG",
        "outputId": "7150d007-e393-41c2-ac5d-274813900130"
      },
      "execution_count": null,
      "outputs": [
        {
          "output_type": "execute_result",
          "data": {
            "text/plain": [
              "array([[0.        , 0.        , 1.        ],\n",
              "       [0.4494382 , 1.        , 0.375     ],\n",
              "       [1.        , 0.22352941, 0.        ]])"
            ]
          },
          "metadata": {},
          "execution_count": 45
        }
      ]
    },
    {
      "cell_type": "markdown",
      "source": [
        "Используем штатную нормализацию данных - MinMaxScaler() для набора данных с рейтингом ВУЗов. "
      ],
      "metadata": {
        "id": "_I8S8H59L6kS"
      }
    },
    {
      "cell_type": "code",
      "source": [
        "X = df.values"
      ],
      "metadata": {
        "id": "9Of27oKi6RD4"
      },
      "execution_count": null,
      "outputs": []
    },
    {
      "cell_type": "code",
      "source": [
        "X"
      ],
      "metadata": {
        "colab": {
          "base_uri": "https://localhost:8080/"
        },
        "id": "2nXx2e_38TKH",
        "outputId": "47dfc183-dd7a-4031-8336-7a69f35997df"
      },
      "execution_count": null,
      "outputs": [
        {
          "output_type": "execute_result",
          "data": {
            "text/plain": [
              "array([[89.0, 1, '2', '1', '1', '1'],\n",
              "       [89.0, 2, '1', '10', '2', '5'],\n",
              "       [89.0, 3, '9', '3', '3', '2'],\n",
              "       ...,\n",
              "       [34.0, 68, '505', '1035', nan, '1942'],\n",
              "       [88.0, 61, nan, nan, nan, '1933'],\n",
              "       [62.0, 11, nan, nan, nan, '1934']], dtype=object)"
            ]
          },
          "metadata": {},
          "execution_count": 47
        }
      ]
    },
    {
      "cell_type": "code",
      "source": [
        "X.shape"
      ],
      "metadata": {
        "colab": {
          "base_uri": "https://localhost:8080/"
        },
        "id": "8qE-KQPf6U_c",
        "outputId": "b2c8a253-fdab-48d0-8697-a762e91ddfbf"
      },
      "execution_count": null,
      "outputs": [
        {
          "output_type": "execute_result",
          "data": {
            "text/plain": [
              "(2000, 6)"
            ]
          },
          "metadata": {},
          "execution_count": 48
        }
      ]
    },
    {
      "cell_type": "code",
      "source": [
        "X_minmax = scaler.fit_transform(X)"
      ],
      "metadata": {
        "id": "EwTTo9NN2n19"
      },
      "execution_count": null,
      "outputs": []
    },
    {
      "cell_type": "code",
      "source": [
        "X_minmax"
      ],
      "metadata": {
        "colab": {
          "base_uri": "https://localhost:8080/"
        },
        "id": "g_RIONTJ6Ci_",
        "outputId": "010b31a8-13be-485b-8cc1-2e92701df18b"
      },
      "execution_count": null,
      "outputs": [
        {
          "output_type": "execute_result",
          "data": {
            "text/plain": [
              "array([[1.        , 1.        , 1.        , 0.        ],\n",
              "       [1.        , 0.        , 0.        , 0.5       ],\n",
              "       [0.        , 0.48505492, 0.40545584, 1.        ],\n",
              "       [0.33333333, 0.5       , 0.3535818 , 0.56259573]])"
            ]
          },
          "metadata": {},
          "execution_count": 109
        }
      ]
    },
    {
      "cell_type": "markdown",
      "source": [
        "Удалим пропущенные значения."
      ],
      "metadata": {
        "id": "fRBpoffkMUov"
      }
    },
    {
      "cell_type": "code",
      "source": [
        "X_withoutnan = fill_nan(X_minmax)"
      ],
      "metadata": {
        "id": "OGrRJANB2yrU"
      },
      "execution_count": null,
      "outputs": []
    },
    {
      "cell_type": "code",
      "source": [
        "x = X_withoutnan"
      ],
      "metadata": {
        "id": "u_kHCNcR7IMh"
      },
      "execution_count": null,
      "outputs": []
    },
    {
      "cell_type": "markdown",
      "source": [
        "Разобьем выборки на тренировочную и тестовую. "
      ],
      "metadata": {
        "id": "LquQTcYKMZXb"
      }
    },
    {
      "cell_type": "code",
      "source": [
        "x_train,x_test, y_train, y_test = \\\n",
        "train_test_split(x,y,test_size= 0.3, random_state = 42)"
      ],
      "metadata": {
        "id": "D5DweDij3IbU"
      },
      "execution_count": null,
      "outputs": []
    },
    {
      "cell_type": "code",
      "source": [
        "model = LinearRegression()\n",
        "model.fit(x_train, y_train)"
      ],
      "metadata": {
        "colab": {
          "base_uri": "https://localhost:8080/",
          "height": 76
        },
        "id": "bCZPDFIP82Iy",
        "outputId": "5a6273f3-62e9-43f8-92f2-3859ed92788b"
      },
      "execution_count": null,
      "outputs": [
        {
          "output_type": "execute_result",
          "data": {
            "text/plain": [
              "LinearRegression()"
            ],
            "text/html": [
              "<style>#sk-container-id-4 {color: black;background-color: white;}#sk-container-id-4 pre{padding: 0;}#sk-container-id-4 div.sk-toggleable {background-color: white;}#sk-container-id-4 label.sk-toggleable__label {cursor: pointer;display: block;width: 100%;margin-bottom: 0;padding: 0.3em;box-sizing: border-box;text-align: center;}#sk-container-id-4 label.sk-toggleable__label-arrow:before {content: \"▸\";float: left;margin-right: 0.25em;color: #696969;}#sk-container-id-4 label.sk-toggleable__label-arrow:hover:before {color: black;}#sk-container-id-4 div.sk-estimator:hover label.sk-toggleable__label-arrow:before {color: black;}#sk-container-id-4 div.sk-toggleable__content {max-height: 0;max-width: 0;overflow: hidden;text-align: left;background-color: #f0f8ff;}#sk-container-id-4 div.sk-toggleable__content pre {margin: 0.2em;color: black;border-radius: 0.25em;background-color: #f0f8ff;}#sk-container-id-4 input.sk-toggleable__control:checked~div.sk-toggleable__content {max-height: 200px;max-width: 100%;overflow: auto;}#sk-container-id-4 input.sk-toggleable__control:checked~label.sk-toggleable__label-arrow:before {content: \"▾\";}#sk-container-id-4 div.sk-estimator input.sk-toggleable__control:checked~label.sk-toggleable__label {background-color: #d4ebff;}#sk-container-id-4 div.sk-label input.sk-toggleable__control:checked~label.sk-toggleable__label {background-color: #d4ebff;}#sk-container-id-4 input.sk-hidden--visually {border: 0;clip: rect(1px 1px 1px 1px);clip: rect(1px, 1px, 1px, 1px);height: 1px;margin: -1px;overflow: hidden;padding: 0;position: absolute;width: 1px;}#sk-container-id-4 div.sk-estimator {font-family: monospace;background-color: #f0f8ff;border: 1px dotted black;border-radius: 0.25em;box-sizing: border-box;margin-bottom: 0.5em;}#sk-container-id-4 div.sk-estimator:hover {background-color: #d4ebff;}#sk-container-id-4 div.sk-parallel-item::after {content: \"\";width: 100%;border-bottom: 1px solid gray;flex-grow: 1;}#sk-container-id-4 div.sk-label:hover label.sk-toggleable__label {background-color: #d4ebff;}#sk-container-id-4 div.sk-serial::before {content: \"\";position: absolute;border-left: 1px solid gray;box-sizing: border-box;top: 0;bottom: 0;left: 50%;z-index: 0;}#sk-container-id-4 div.sk-serial {display: flex;flex-direction: column;align-items: center;background-color: white;padding-right: 0.2em;padding-left: 0.2em;position: relative;}#sk-container-id-4 div.sk-item {position: relative;z-index: 1;}#sk-container-id-4 div.sk-parallel {display: flex;align-items: stretch;justify-content: center;background-color: white;position: relative;}#sk-container-id-4 div.sk-item::before, #sk-container-id-4 div.sk-parallel-item::before {content: \"\";position: absolute;border-left: 1px solid gray;box-sizing: border-box;top: 0;bottom: 0;left: 50%;z-index: -1;}#sk-container-id-4 div.sk-parallel-item {display: flex;flex-direction: column;z-index: 1;position: relative;background-color: white;}#sk-container-id-4 div.sk-parallel-item:first-child::after {align-self: flex-end;width: 50%;}#sk-container-id-4 div.sk-parallel-item:last-child::after {align-self: flex-start;width: 50%;}#sk-container-id-4 div.sk-parallel-item:only-child::after {width: 0;}#sk-container-id-4 div.sk-dashed-wrapped {border: 1px dashed gray;margin: 0 0.4em 0.5em 0.4em;box-sizing: border-box;padding-bottom: 0.4em;background-color: white;}#sk-container-id-4 div.sk-label label {font-family: monospace;font-weight: bold;display: inline-block;line-height: 1.2em;}#sk-container-id-4 div.sk-label-container {text-align: center;}#sk-container-id-4 div.sk-container {/* jupyter's `normalize.less` sets `[hidden] { display: none; }` but bootstrap.min.css set `[hidden] { display: none !important; }` so we also need the `!important` here to be able to override the default hidden behavior on the sphinx rendered scikit-learn.org. See: https://github.com/scikit-learn/scikit-learn/issues/21755 */display: inline-block !important;position: relative;}#sk-container-id-4 div.sk-text-repr-fallback {display: none;}</style><div id=\"sk-container-id-4\" class=\"sk-top-container\"><div class=\"sk-text-repr-fallback\"><pre>LinearRegression()</pre><b>In a Jupyter environment, please rerun this cell to show the HTML representation or trust the notebook. <br />On GitHub, the HTML representation is unable to render, please try loading this page with nbviewer.org.</b></div><div class=\"sk-container\" hidden><div class=\"sk-item\"><div class=\"sk-estimator sk-toggleable\"><input class=\"sk-toggleable__control sk-hidden--visually\" id=\"sk-estimator-id-4\" type=\"checkbox\" checked><label for=\"sk-estimator-id-4\" class=\"sk-toggleable__label sk-toggleable__label-arrow\">LinearRegression</label><div class=\"sk-toggleable__content\"><pre>LinearRegression()</pre></div></div></div></div></div>"
            ]
          },
          "metadata": {},
          "execution_count": 54
        }
      ]
    },
    {
      "cell_type": "markdown",
      "source": [
        "Построим модель линейной регрессии."
      ],
      "metadata": {
        "id": "_bh8RrtfMeZv"
      }
    },
    {
      "cell_type": "code",
      "source": [
        "model = LinearRegression()\n",
        "model.fit(x_train, y_train)"
      ],
      "metadata": {
        "id": "maXwZ4rB3fiZ",
        "colab": {
          "base_uri": "https://localhost:8080/",
          "height": 76
        },
        "outputId": "016da7ff-b1b7-46ee-aa38-1ab4841c58dc"
      },
      "execution_count": null,
      "outputs": [
        {
          "output_type": "execute_result",
          "data": {
            "text/plain": [
              "LinearRegression()"
            ],
            "text/html": [
              "<style>#sk-container-id-5 {color: black;background-color: white;}#sk-container-id-5 pre{padding: 0;}#sk-container-id-5 div.sk-toggleable {background-color: white;}#sk-container-id-5 label.sk-toggleable__label {cursor: pointer;display: block;width: 100%;margin-bottom: 0;padding: 0.3em;box-sizing: border-box;text-align: center;}#sk-container-id-5 label.sk-toggleable__label-arrow:before {content: \"▸\";float: left;margin-right: 0.25em;color: #696969;}#sk-container-id-5 label.sk-toggleable__label-arrow:hover:before {color: black;}#sk-container-id-5 div.sk-estimator:hover label.sk-toggleable__label-arrow:before {color: black;}#sk-container-id-5 div.sk-toggleable__content {max-height: 0;max-width: 0;overflow: hidden;text-align: left;background-color: #f0f8ff;}#sk-container-id-5 div.sk-toggleable__content pre {margin: 0.2em;color: black;border-radius: 0.25em;background-color: #f0f8ff;}#sk-container-id-5 input.sk-toggleable__control:checked~div.sk-toggleable__content {max-height: 200px;max-width: 100%;overflow: auto;}#sk-container-id-5 input.sk-toggleable__control:checked~label.sk-toggleable__label-arrow:before {content: \"▾\";}#sk-container-id-5 div.sk-estimator input.sk-toggleable__control:checked~label.sk-toggleable__label {background-color: #d4ebff;}#sk-container-id-5 div.sk-label input.sk-toggleable__control:checked~label.sk-toggleable__label {background-color: #d4ebff;}#sk-container-id-5 input.sk-hidden--visually {border: 0;clip: rect(1px 1px 1px 1px);clip: rect(1px, 1px, 1px, 1px);height: 1px;margin: -1px;overflow: hidden;padding: 0;position: absolute;width: 1px;}#sk-container-id-5 div.sk-estimator {font-family: monospace;background-color: #f0f8ff;border: 1px dotted black;border-radius: 0.25em;box-sizing: border-box;margin-bottom: 0.5em;}#sk-container-id-5 div.sk-estimator:hover {background-color: #d4ebff;}#sk-container-id-5 div.sk-parallel-item::after {content: \"\";width: 100%;border-bottom: 1px solid gray;flex-grow: 1;}#sk-container-id-5 div.sk-label:hover label.sk-toggleable__label {background-color: #d4ebff;}#sk-container-id-5 div.sk-serial::before {content: \"\";position: absolute;border-left: 1px solid gray;box-sizing: border-box;top: 0;bottom: 0;left: 50%;z-index: 0;}#sk-container-id-5 div.sk-serial {display: flex;flex-direction: column;align-items: center;background-color: white;padding-right: 0.2em;padding-left: 0.2em;position: relative;}#sk-container-id-5 div.sk-item {position: relative;z-index: 1;}#sk-container-id-5 div.sk-parallel {display: flex;align-items: stretch;justify-content: center;background-color: white;position: relative;}#sk-container-id-5 div.sk-item::before, #sk-container-id-5 div.sk-parallel-item::before {content: \"\";position: absolute;border-left: 1px solid gray;box-sizing: border-box;top: 0;bottom: 0;left: 50%;z-index: -1;}#sk-container-id-5 div.sk-parallel-item {display: flex;flex-direction: column;z-index: 1;position: relative;background-color: white;}#sk-container-id-5 div.sk-parallel-item:first-child::after {align-self: flex-end;width: 50%;}#sk-container-id-5 div.sk-parallel-item:last-child::after {align-self: flex-start;width: 50%;}#sk-container-id-5 div.sk-parallel-item:only-child::after {width: 0;}#sk-container-id-5 div.sk-dashed-wrapped {border: 1px dashed gray;margin: 0 0.4em 0.5em 0.4em;box-sizing: border-box;padding-bottom: 0.4em;background-color: white;}#sk-container-id-5 div.sk-label label {font-family: monospace;font-weight: bold;display: inline-block;line-height: 1.2em;}#sk-container-id-5 div.sk-label-container {text-align: center;}#sk-container-id-5 div.sk-container {/* jupyter's `normalize.less` sets `[hidden] { display: none; }` but bootstrap.min.css set `[hidden] { display: none !important; }` so we also need the `!important` here to be able to override the default hidden behavior on the sphinx rendered scikit-learn.org. See: https://github.com/scikit-learn/scikit-learn/issues/21755 */display: inline-block !important;position: relative;}#sk-container-id-5 div.sk-text-repr-fallback {display: none;}</style><div id=\"sk-container-id-5\" class=\"sk-top-container\"><div class=\"sk-text-repr-fallback\"><pre>LinearRegression()</pre><b>In a Jupyter environment, please rerun this cell to show the HTML representation or trust the notebook. <br />On GitHub, the HTML representation is unable to render, please try loading this page with nbviewer.org.</b></div><div class=\"sk-container\" hidden><div class=\"sk-item\"><div class=\"sk-estimator sk-toggleable\"><input class=\"sk-toggleable__control sk-hidden--visually\" id=\"sk-estimator-id-5\" type=\"checkbox\" checked><label for=\"sk-estimator-id-5\" class=\"sk-toggleable__label sk-toggleable__label-arrow\">LinearRegression</label><div class=\"sk-toggleable__content\"><pre>LinearRegression()</pre></div></div></div></div></div>"
            ]
          },
          "metadata": {},
          "execution_count": 55
        }
      ]
    },
    {
      "cell_type": "markdown",
      "source": [
        "Посмотрим характеристики модели."
      ],
      "metadata": {
        "id": "qID_hpgvMhuD"
      }
    },
    {
      "cell_type": "code",
      "source": [
        "print_LR_MSE_score(model, x_test,y_test)"
      ],
      "metadata": {
        "id": "CQ2ESt823ltD",
        "colab": {
          "base_uri": "https://localhost:8080/"
        },
        "outputId": "aa8910f6-fca2-4551-f7b1-ea55897b97ad"
      },
      "execution_count": null,
      "outputs": [
        {
          "output_type": "stream",
          "name": "stdout",
          "text": [
            "w = [  0.38842205  -0.72981105   0.23062408  -2.36744743   2.863757\n",
            " -14.34066222] \n",
            "MSE = 3.7087553213307776 \n",
            "Score = 0.8394667008516299\n"
          ]
        }
      ]
    },
    {
      "cell_type": "markdown",
      "source": [
        "Попробуем другой вариант нормализации"
      ],
      "metadata": {
        "id": "N5b8ltJD6zGs"
      }
    },
    {
      "cell_type": "code",
      "source": [
        "scaler = StandardScaler()\n"
      ],
      "metadata": {
        "id": "2gYmnUjB6zGt"
      },
      "execution_count": null,
      "outputs": []
    },
    {
      "cell_type": "code",
      "source": [],
      "metadata": {
        "id": "ME8rA5HRnC0v"
      },
      "execution_count": null,
      "outputs": []
    },
    {
      "cell_type": "markdown",
      "source": [
        "Есть улучшение показателей.  Но имеет смысл попробовать заполнить пропущенные значения другим алгоритмом. "
      ],
      "metadata": {
        "id": "Lq-54rli7T1Z"
      }
    },
    {
      "cell_type": "markdown",
      "source": [
        "##Задание 28.1*  \n",
        "Попробуйте поэкспериментировать - удалить  из набора данных с рейтингом ВУЗов столбцы, в которых изначально больше 40% значений пропущены. Заполните пропущенные значения в остальных столбцах. Постройте похожим способом модель линейной  регрессии и сравните показатели полученной модели. Они улучшились?\n"
      ],
      "metadata": {
        "id": "R5V4XzgzNRnb"
      }
    },
    {
      "cell_type": "code",
      "source": [],
      "metadata": {
        "id": "aFv8fDWROEk-"
      },
      "execution_count": null,
      "outputs": []
    },
    {
      "cell_type": "markdown",
      "source": [
        "##*Использование коэффициента корреляции для восстановления пропущенных данных*\n"
      ],
      "metadata": {
        "id": "N8CHxZ-PwaWP"
      }
    },
    {
      "cell_type": "markdown",
      "source": [
        "Коэффициент корреляции показывает, как сильно значения одного признака влияют на значения других признаков, фактически он показывает некоторую меру близости признаков."
      ],
      "metadata": {
        "id": "a9L8E84-xHYB"
      }
    },
    {
      "cell_type": "markdown",
      "metadata": {
        "id": "hUWYhv06WyqJ"
      },
      "source": [
        "\n",
        "### Использование корреляции столбцов\n",
        "**Алгоритм 27.2**\n",
        "\n",
        "Пусть $X$ - матрица нецелевых признаков, содержащая $n$ строк (по числу объектов) и $m$ столбцов (по числу признаков). \n",
        "\n",
        "И пусть признак $x_{ij}$ не определен. Это соответствует тому, что для объекта $i$ значение признака $j$ либо пропущено, либо равно nan. \n",
        "\n",
        "Тогда, зная корреляцию столбца $j$ с остальными признаками (столбцами), можно заполнить (восстановить) значение $x_{ij}$ по следующей формуле.\n",
        "\n",
        "$$\n",
        "x_{ij}  = \\overline{x_j} + \\frac{\\displaystyle\\sum_{k=1}^{m} {corr(x_k,x_j)(x_{ik} - \\overline{x_k})}}\n",
        "{\\displaystyle\\sum_{k=1}^{m} {|corr(x_k,x_j)|}},    k\\neq j\n",
        "$$\n",
        "\n",
        "где \n",
        "$ \\overline{x_j}$ - среднее значение признака  $j$,  \n",
        "$ \\overline{x_k}$ - среднее значение признака  $k$,  \n",
        "$ corr(x_k,x_j) $ - коэффициент корреляции между $k$-ым и $j$-тым признаками.  "
      ]
    },
    {
      "cell_type": "markdown",
      "source": [
        "### Использование корреляции строк "
      ],
      "metadata": {
        "id": "IspItUBawQ8S"
      }
    },
    {
      "cell_type": "markdown",
      "source": [
        "Корреляция столбцов демонстировала нам близость признаков, а что будет показывать для той же матрицы корреляция строк?  \n",
        "\n"
      ],
      "metadata": {
        "id": "e_VbYGVIuew4"
      }
    },
    {
      "cell_type": "markdown",
      "source": [
        "Сначала посмотрим на матрицу. Дает ли нам какую-то информацию столбец, если все его значения для всех объектов одинаковы? \n",
        "\n",
        "\n",
        "Дает ли нам какую-то информацию строка, если все её значения одинаковы?\n",
        "\n",
        "И можно ли для таких матриц искать корреляции столбцов и строк?  \n",
        "\n",
        "Рассмотрим примеры. \n"
      ],
      "metadata": {
        "id": "nrSMRzcXFtdS"
      }
    },
    {
      "cell_type": "code",
      "source": [
        "X = np.array([[4., 3., 5., 4], \n",
        "              [5., 4., 6., 5], \n",
        "              [5., 5., 4., 5], \n",
        "              [5., 4., 5., 5.]])"
      ],
      "metadata": {
        "id": "ZTHFsODVjd5b"
      },
      "execution_count": null,
      "outputs": []
    },
    {
      "cell_type": "code",
      "source": [
        "np.isin(0, X.var(axis = 1))"
      ],
      "metadata": {
        "colab": {
          "base_uri": "https://localhost:8080/"
        },
        "id": "hXFGgKR2Aq1Y",
        "outputId": "9235a335-30bb-44c4-a653-c7b233434d96"
      },
      "execution_count": null,
      "outputs": [
        {
          "output_type": "execute_result",
          "data": {
            "text/plain": [
              "array(False)"
            ]
          },
          "metadata": {},
          "execution_count": 122
        }
      ]
    },
    {
      "cell_type": "code",
      "source": [
        "# Определить, что есть строка с одинаковыми значениями\n",
        "if np.isin(0, X.var(axis = 0)):\n",
        "  print('Построение матрицы не возможно')\n",
        "else: M = np.corrcoef(X)"
      ],
      "metadata": {
        "id": "sIypezcAN6CK"
      },
      "execution_count": null,
      "outputs": []
    },
    {
      "cell_type": "code",
      "source": [
        "M"
      ],
      "metadata": {
        "colab": {
          "base_uri": "https://localhost:8080/"
        },
        "id": "retem80iByxB",
        "outputId": "d32ecc84-baa8-4bd8-e6f0-166faaf2e5f0"
      },
      "execution_count": null,
      "outputs": [
        {
          "output_type": "execute_result",
          "data": {
            "text/plain": [
              "array([[ 1.        ,  1.        , -0.81649658,  0.81649658],\n",
              "       [ 1.        ,  1.        , -0.81649658,  0.81649658],\n",
              "       [-0.81649658, -0.81649658,  1.        , -0.33333333],\n",
              "       [ 0.81649658,  0.81649658, -0.33333333,  1.        ]])"
            ]
          },
          "metadata": {},
          "execution_count": 124
        }
      ]
    },
    {
      "cell_type": "code",
      "source": [
        "df = pd.DataFrame(x)"
      ],
      "metadata": {
        "id": "oGhdGbAcDJhb"
      },
      "execution_count": null,
      "outputs": []
    },
    {
      "cell_type": "code",
      "source": [
        "df.corr()        # вычисляет коэффициенты корреляции по строкам, и не работает,\n",
        "                # если есть строка с одинаковыми значениями"
      ],
      "metadata": {
        "id": "dCHNRglDPUSp",
        "colab": {
          "base_uri": "https://localhost:8080/",
          "height": 174
        },
        "outputId": "406b64df-8560-4b0a-a257-f7c1c59039a3"
      },
      "execution_count": null,
      "outputs": [
        {
          "output_type": "execute_result",
          "data": {
            "text/plain": [
              "          0         1         2         3\n",
              "0  1.000000  0.014234  0.147514 -0.839588\n",
              "1  0.014234  1.000000  0.985351 -0.512886\n",
              "2  0.147514  0.985351  1.000000 -0.594210\n",
              "3 -0.839588 -0.512886 -0.594210  1.000000"
            ],
            "text/html": [
              "\n",
              "  <div id=\"df-e6a9a227-8daa-4082-94f0-1a01e149c501\">\n",
              "    <div class=\"colab-df-container\">\n",
              "      <div>\n",
              "<style scoped>\n",
              "    .dataframe tbody tr th:only-of-type {\n",
              "        vertical-align: middle;\n",
              "    }\n",
              "\n",
              "    .dataframe tbody tr th {\n",
              "        vertical-align: top;\n",
              "    }\n",
              "\n",
              "    .dataframe thead th {\n",
              "        text-align: right;\n",
              "    }\n",
              "</style>\n",
              "<table border=\"1\" class=\"dataframe\">\n",
              "  <thead>\n",
              "    <tr style=\"text-align: right;\">\n",
              "      <th></th>\n",
              "      <th>0</th>\n",
              "      <th>1</th>\n",
              "      <th>2</th>\n",
              "      <th>3</th>\n",
              "    </tr>\n",
              "  </thead>\n",
              "  <tbody>\n",
              "    <tr>\n",
              "      <th>0</th>\n",
              "      <td>1.000000</td>\n",
              "      <td>0.014234</td>\n",
              "      <td>0.147514</td>\n",
              "      <td>-0.839588</td>\n",
              "    </tr>\n",
              "    <tr>\n",
              "      <th>1</th>\n",
              "      <td>0.014234</td>\n",
              "      <td>1.000000</td>\n",
              "      <td>0.985351</td>\n",
              "      <td>-0.512886</td>\n",
              "    </tr>\n",
              "    <tr>\n",
              "      <th>2</th>\n",
              "      <td>0.147514</td>\n",
              "      <td>0.985351</td>\n",
              "      <td>1.000000</td>\n",
              "      <td>-0.594210</td>\n",
              "    </tr>\n",
              "    <tr>\n",
              "      <th>3</th>\n",
              "      <td>-0.839588</td>\n",
              "      <td>-0.512886</td>\n",
              "      <td>-0.594210</td>\n",
              "      <td>1.000000</td>\n",
              "    </tr>\n",
              "  </tbody>\n",
              "</table>\n",
              "</div>\n",
              "      <button class=\"colab-df-convert\" onclick=\"convertToInteractive('df-e6a9a227-8daa-4082-94f0-1a01e149c501')\"\n",
              "              title=\"Convert this dataframe to an interactive table.\"\n",
              "              style=\"display:none;\">\n",
              "        \n",
              "  <svg xmlns=\"http://www.w3.org/2000/svg\" height=\"24px\"viewBox=\"0 0 24 24\"\n",
              "       width=\"24px\">\n",
              "    <path d=\"M0 0h24v24H0V0z\" fill=\"none\"/>\n",
              "    <path d=\"M18.56 5.44l.94 2.06.94-2.06 2.06-.94-2.06-.94-.94-2.06-.94 2.06-2.06.94zm-11 1L8.5 8.5l.94-2.06 2.06-.94-2.06-.94L8.5 2.5l-.94 2.06-2.06.94zm10 10l.94 2.06.94-2.06 2.06-.94-2.06-.94-.94-2.06-.94 2.06-2.06.94z\"/><path d=\"M17.41 7.96l-1.37-1.37c-.4-.4-.92-.59-1.43-.59-.52 0-1.04.2-1.43.59L10.3 9.45l-7.72 7.72c-.78.78-.78 2.05 0 2.83L4 21.41c.39.39.9.59 1.41.59.51 0 1.02-.2 1.41-.59l7.78-7.78 2.81-2.81c.8-.78.8-2.07 0-2.86zM5.41 20L4 18.59l7.72-7.72 1.47 1.35L5.41 20z\"/>\n",
              "  </svg>\n",
              "      </button>\n",
              "      \n",
              "  <style>\n",
              "    .colab-df-container {\n",
              "      display:flex;\n",
              "      flex-wrap:wrap;\n",
              "      gap: 12px;\n",
              "    }\n",
              "\n",
              "    .colab-df-convert {\n",
              "      background-color: #E8F0FE;\n",
              "      border: none;\n",
              "      border-radius: 50%;\n",
              "      cursor: pointer;\n",
              "      display: none;\n",
              "      fill: #1967D2;\n",
              "      height: 32px;\n",
              "      padding: 0 0 0 0;\n",
              "      width: 32px;\n",
              "    }\n",
              "\n",
              "    .colab-df-convert:hover {\n",
              "      background-color: #E2EBFA;\n",
              "      box-shadow: 0px 1px 2px rgba(60, 64, 67, 0.3), 0px 1px 3px 1px rgba(60, 64, 67, 0.15);\n",
              "      fill: #174EA6;\n",
              "    }\n",
              "\n",
              "    [theme=dark] .colab-df-convert {\n",
              "      background-color: #3B4455;\n",
              "      fill: #D2E3FC;\n",
              "    }\n",
              "\n",
              "    [theme=dark] .colab-df-convert:hover {\n",
              "      background-color: #434B5C;\n",
              "      box-shadow: 0px 1px 3px 1px rgba(0, 0, 0, 0.15);\n",
              "      filter: drop-shadow(0px 1px 2px rgba(0, 0, 0, 0.3));\n",
              "      fill: #FFFFFF;\n",
              "    }\n",
              "  </style>\n",
              "\n",
              "      <script>\n",
              "        const buttonEl =\n",
              "          document.querySelector('#df-e6a9a227-8daa-4082-94f0-1a01e149c501 button.colab-df-convert');\n",
              "        buttonEl.style.display =\n",
              "          google.colab.kernel.accessAllowed ? 'block' : 'none';\n",
              "\n",
              "        async function convertToInteractive(key) {\n",
              "          const element = document.querySelector('#df-e6a9a227-8daa-4082-94f0-1a01e149c501');\n",
              "          const dataTable =\n",
              "            await google.colab.kernel.invokeFunction('convertToInteractive',\n",
              "                                                     [key], {});\n",
              "          if (!dataTable) return;\n",
              "\n",
              "          const docLinkHtml = 'Like what you see? Visit the ' +\n",
              "            '<a target=\"_blank\" href=https://colab.research.google.com/notebooks/data_table.ipynb>data table notebook</a>'\n",
              "            + ' to learn more about interactive tables.';\n",
              "          element.innerHTML = '';\n",
              "          dataTable['output_type'] = 'display_data';\n",
              "          await google.colab.output.renderOutput(dataTable, element);\n",
              "          const docLink = document.createElement('div');\n",
              "          docLink.innerHTML = docLinkHtml;\n",
              "          element.appendChild(docLink);\n",
              "        }\n",
              "      </script>\n",
              "    </div>\n",
              "  </div>\n",
              "  "
            ]
          },
          "metadata": {},
          "execution_count": 127
        }
      ]
    },
    {
      "cell_type": "markdown",
      "source": [
        "Вспомним, как интерпретировать показатели корреляции. В нашей матрице `X` нулевая и первая строки коррелируют.  "
      ],
      "metadata": {
        "id": "ncib-zCAPYix"
      }
    },
    {
      "cell_type": "code",
      "source": [
        "X = np.array([[4., 3., 5., 5], \n",
        "              [5., 4., 6., 5], \n",
        "              [5., 4., 5., 5], \n",
        "              [5., 4., 5., 5.]])\n",
        "\n",
        "np.corrcoef(X) # вычисляет коэффициенты корреляции по строкам"
      ],
      "metadata": {
        "id": "EqrbGg4RMRQl"
      },
      "execution_count": null,
      "outputs": []
    },
    {
      "cell_type": "code",
      "source": [
        "# Определить, что есть столбец с одинаковыми значениями\n"
      ],
      "metadata": {
        "id": "rsE5GgCFPxmA"
      },
      "execution_count": null,
      "outputs": []
    },
    {
      "cell_type": "code",
      "source": [
        "df = pd.DataFrame(X)"
      ],
      "metadata": {
        "id": "MQxn1GF0IGjY"
      },
      "execution_count": null,
      "outputs": []
    },
    {
      "cell_type": "code",
      "source": [
        "df.corr()     # вычисляет коэффициенты корреляции по столбцам, и не работает, \n",
        "              # если есть столбец с одинаковыми значениями "
      ],
      "metadata": {
        "id": "6JIgTlsRIMh4"
      },
      "execution_count": null,
      "outputs": []
    },
    {
      "cell_type": "markdown",
      "source": [
        "Соответственно, функция `df.corr()` тоже не умеет работать в условии, когда все значения какого-то признака **одинаковы**.\n",
        "А нужен ли нам вообще такой признак?"
      ],
      "metadata": {
        "id": "h5ifHvq_QMfV"
      }
    },
    {
      "cell_type": "markdown",
      "source": [
        "###Вывод\n",
        "До применения Алгоритма 27.2 следует убедиться, что матрица удовлетворяет требованиям. В зависимости от применяемой функции  или метода  в матрице не должно быть:   \n",
        "Для `corrcoef(X)`  - строк, все значения которой равны между собой.  \n",
        "Для `corr()` - столбцов, все значения которого равны между собой."
      ],
      "metadata": {
        "id": "HBiW9gnpQjxp"
      }
    },
    {
      "cell_type": "markdown",
      "source": [
        "#Кластеризация"
      ],
      "metadata": {
        "id": "OmDp2boSRlGu"
      }
    },
    {
      "cell_type": "markdown",
      "source": [
        "Кластеризация (англ. cluster analysis) — задача группировки множества объектов на подмножества (кластеры) таким образом, чтобы объекты из одного кластера были более похожи друг на друга, чем на объекты из других кластеров по какому-либо критерию."
      ],
      "metadata": {
        "id": "QwBgT3_DRu15"
      }
    },
    {
      "cell_type": "markdown",
      "source": [
        "Прежде, чем писать собственный алгоритм кластеризации, давайте напишем несколько функций для визуализации этого процесса.   \n",
        "\n",
        "Пусть у нас есть 4 объекта с признаками, см. матрицу `X.`"
      ],
      "metadata": {
        "id": "Hg_hIvXqR83c"
      }
    },
    {
      "cell_type": "code",
      "source": [
        "X = np.array([[1., 1.], \n",
        "              [2., 0], \n",
        "              [1., 6.], \n",
        "              [4., 0.]])"
      ],
      "metadata": {
        "id": "MBxwpRmWGXqy"
      },
      "execution_count": null,
      "outputs": []
    },
    {
      "cell_type": "markdown",
      "source": [
        "Посмотрим, как они разбросаны. "
      ],
      "metadata": {
        "id": "yMyDfrbTTxFw"
      }
    },
    {
      "cell_type": "code",
      "source": [
        "plt.scatter(X[:, 0], X[:, 1])\n",
        "plt.plot(X[:, 0].mean(), X[:, 1].mean(), 'ro');"
      ],
      "metadata": {
        "id": "joA0Ew02T_sd",
        "colab": {
          "base_uri": "https://localhost:8080/",
          "height": 265
        },
        "outputId": "acd6f58c-d414-434e-bf35-11db79beb2ec"
      },
      "execution_count": null,
      "outputs": [
        {
          "output_type": "display_data",
          "data": {
            "text/plain": [
              "<Figure size 432x288 with 1 Axes>"
            ],
            "image/png": "[encoded data removed]"
          },
          "metadata": {
            "needs_background": "light"
          }
        }
      ]
    },
    {
      "cell_type": "markdown",
      "source": [
        "##Задание 28.1  \n",
        "Напишите функцию `draw_circle(center, R)`, которая рисует в плоскости окружность с центром в точке `center`   радиуса `R`. Кортеж `center` содержит два числа - координаты центра `(x, y)`."
      ],
      "metadata": {
        "id": "hQycCA9MzgFK"
      }
    },
    {
      "cell_type": "code",
      "source": [],
      "metadata": {
        "id": "99RFo54aPAeD"
      },
      "execution_count": null,
      "outputs": []
    },
    {
      "cell_type": "code",
      "source": [
        "def draw_circle(center, R):\n",
        "    plt.figure(figsize = (4,4))\n",
        "    angle = np.linspace(0,2*np.pi,100)\n",
        "    plt.plot(center[0]+R*np.cos(angle),center[1]+R*np.sin(angle), 'r')\n",
        "    return 0"
      ],
      "metadata": {
        "id": "LBJPkdiLYeu2"
      },
      "execution_count": null,
      "outputs": []
    },
    {
      "cell_type": "code",
      "source": [
        "draw_circle((10,1), 3)"
      ],
      "metadata": {
        "id": "z5rd_JWLUXlI",
        "colab": {
          "base_uri": "https://localhost:8080/",
          "height": 282
        },
        "outputId": "08d086af-59d1-4da5-ca6b-f17f1c2763ac"
      },
      "execution_count": null,
      "outputs": [
        {
          "output_type": "execute_result",
          "data": {
            "text/plain": [
              "0"
            ]
          },
          "metadata": {},
          "execution_count": 132
        },
        {
          "output_type": "display_data",
          "data": {
            "text/plain": [
              "<Figure size 288x288 with 1 Axes>"
            ],
            "image/png": "[encoded data removed]"
          },
          "metadata": {
            "needs_background": "light"
          }
        }
      ]
    },
    {
      "cell_type": "markdown",
      "source": [
        "##Задание 28.2  \n",
        "Напишите функцию `find_centroid(X, c)`, которая возвращает центр тяжести (центроид) для объектов массива `X`, перечисленных в списке c. C - список индексов строк.  "
      ],
      "metadata": {
        "id": "t-J_ZIbW0Fvv"
      }
    },
    {
      "cell_type": "code",
      "source": [
        "def find_centroid(X, c):\n",
        "    \"\"\" \n",
        "    \"\"\"\n",
        "    return X[c].mean(axis = 0)"
      ],
      "metadata": {
        "id": "qF2HnK2MQI4O"
      },
      "execution_count": null,
      "outputs": []
    },
    {
      "cell_type": "code",
      "source": [
        "find_centroid(X, [0, 1,2])"
      ],
      "metadata": {
        "id": "7gKtqD0GV7Hq",
        "colab": {
          "base_uri": "https://localhost:8080/"
        },
        "outputId": "0275198c-1e7e-4909-afd9-1f13cc5b5343"
      },
      "execution_count": null,
      "outputs": [
        {
          "output_type": "execute_result",
          "data": {
            "text/plain": [
              "array([1.33333333, 2.33333333])"
            ]
          },
          "metadata": {},
          "execution_count": 139
        }
      ]
    },
    {
      "cell_type": "code",
      "source": [
        "X"
      ],
      "metadata": {
        "colab": {
          "base_uri": "https://localhost:8080/"
        },
        "id": "WmKGogCPP6Y0",
        "outputId": "549ce22d-6f5f-4cf4-affb-99f9d95e64d8"
      },
      "execution_count": null,
      "outputs": [
        {
          "output_type": "execute_result",
          "data": {
            "text/plain": [
              "array([[1., 1.],\n",
              "       [2., 0.],\n",
              "       [1., 6.],\n",
              "       [4., 0.]])"
            ]
          },
          "metadata": {},
          "execution_count": 138
        }
      ]
    },
    {
      "cell_type": "markdown",
      "source": [
        "***Курсив:***## Алгоритм нахождения одного кластера для FOREL"
      ],
      "metadata": {
        "id": "9Bc__fvF1BGD"
      }
    },
    {
      "cell_type": "code",
      "source": [
        "def find_cluster(X, R, f):\n",
        "\n",
        "    return c"
      ],
      "metadata": {
        "id": "JAgjEE-8SVKF"
      },
      "execution_count": null,
      "outputs": []
    },
    {
      "cell_type": "code",
      "source": [],
      "metadata": {
        "id": "e_0KYgxHPmSp"
      },
      "execution_count": null,
      "outputs": []
    },
    {
      "cell_type": "code",
      "source": [
        "X = np.array([[1., 1.], \n",
        "              [2., 0], \n",
        "              [1., 6.], \n",
        "              [4., 0.],\n",
        "              [3., 5],\n",
        "              [4, 4],\n",
        "              [3, 4],\n",
        "              [1.5, 5],\n",
        "              [2, 4],\n",
        "              [1.5, 3],\n",
        "              [3.5, 2]])"
      ],
      "metadata": {
        "id": "2hgF50kwG846"
      },
      "execution_count": null,
      "outputs": []
    },
    {
      "cell_type": "code",
      "source": [
        "f = np.random.randint(X.max(), size=2)\n"
      ],
      "metadata": {
        "id": "i6xke5g2qeFt"
      },
      "execution_count": null,
      "outputs": []
    },
    {
      "cell_type": "code",
      "source": [
        "c1 = find_cluster(X, 3, f)"
      ],
      "metadata": {
        "id": "tO72oR0626BH"
      },
      "execution_count": null,
      "outputs": []
    },
    {
      "cell_type": "code",
      "source": [
        "c1"
      ],
      "metadata": {
        "id": "C846NIQC3Na8"
      },
      "execution_count": null,
      "outputs": []
    },
    {
      "cell_type": "markdown",
      "source": [
        "##Задание 28.3*  \n",
        "Обобщите алгоритм. Напишите функцию `find_all_clusters(X, R)`, которая возвращает список кластеров для  массива `X` и параметра R.  "
      ],
      "metadata": {
        "id": "TwbTegnD1eFW"
      }
    },
    {
      "cell_type": "code",
      "source": [],
      "metadata": {
        "id": "xfHcmeMn1ZqC"
      },
      "execution_count": null,
      "outputs": []
    },
    {
      "cell_type": "markdown",
      "source": [
        "##Задание 28.4*   \n",
        "Напишите функцию `fill_nan_corr(X)`, заполняет пропущенные значения массива X на основе алгоритма 27.2. Вы можете выбрать сами, использовать корреляцию объектов или корреляцию признаков. "
      ],
      "metadata": {
        "id": "gnkGbxw82GAZ"
      }
    },
    {
      "cell_type": "code",
      "source": [],
      "metadata": {
        "id": "eSvgpcGJZb32"
      },
      "execution_count": null,
      "outputs": []
    },
    {
      "cell_type": "markdown",
      "source": [
        "## Дополнительные ссылки по теме \n",
        "\n",
        "**Numpy**\n",
        "\n",
        "*   [Numpy. Постановка задачи машинного обучения. Видео-урок](https://www.youtube.com/watch?v=Z_j_orFpJVI)\n",
        "\n",
        "*   [Библиотека Numpy. Полезные инструменты  Текстовый урок](https://devpractice.ru/numpy-useful-functions/)\n",
        "\n",
        "*   [Сколько памяти используют ваши объекты Python. Статья](https://code.tutsplus.com/ru/tutorials/understand-how-much-memory-your-python-objects-use--cms-25609)\n",
        "\n",
        "*  [Наглядно о том, как работает NumPy Статья (перевод статьи Jay Alammar) с  хорошими картинками 8-)](https://habr.com/ru/company/skillfactory/blog/564240/)\n",
        "*  [Справочное руководство по NumPy на русском языке](https://pyprog.pro/reference_manual.html)\n",
        "*  [Справочник по NumPy c mipt.ru](http://acm.mipt.ru/twiki/bin/view/Cintro/PythonNumpy)\n",
        "*  [Краткое описание math. Справочник на русском языке](https://pythonchik.ru/matematika/modul-math-v-python) \n",
        "\n",
        "*   [Статья с примерами про numpy.isclose() (на английском языке) \n",
        "](https://www.pythonpool.com/numpy-isclose/)\n",
        "\n",
        "**Машинное обучение**\n",
        "*   Книга  Уэс Маккинли \"Python и анализ данных\"/ Пер. с англ. Слинкин А. А. - М.: ДМК Пресс, 2015. - 482 с.\n",
        "*   [Машинное обучение для людей (с прекрасными картинками) \n",
        "](https://vas3k.ru/blog/machine_learning/)\n",
        "*   [Курс на YouTube Машинное обучение 1 (преп. Е. Соколов, ВШЭ)\n",
        "](https://www.youtube.com/playlist?list=PLEqoHzpnmTfChItexxg2ZfxCsm-8QPsdS)\n",
        "*   [Андрей Хлевнюк. Основы линейной регрессии. Статья на Хабр.\n",
        "](https://habr.com/ru/post/514818/)\n",
        "\n",
        "*   [Вычисление коэффициента корреляции Пирсона в Python с помощью Numpy.\n",
        "](https://pythobyte.com/calculating-pearson-correlation-coefficient-in-python-with-numpy-c7357af3/)\n",
        "\n",
        "*   [Обзор методов кластеризации из sklearn (рус.).](https://scikit-learn.ru/clustering/)\n",
        "\n"
      ],
      "metadata": {
        "id": "k4AiHjQ_nk5A"
      }
    }
  ]
}