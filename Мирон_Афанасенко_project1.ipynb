{
  "nbformat": 4,
  "nbformat_minor": 0,
  "metadata": {
    "colab": {
      "provenance": [],
      "include_colab_link": true
    },
    "kernelspec": {
      "display_name": "Python 3 (ipykernel)",
      "language": "python",
      "name": "python3"
    },
    "language_info": {
      "codemirror_mode": {
        "name": "ipython",
        "version": 3
      },
      "file_extension": ".py",
      "mimetype": "text/x-python",
      "name": "python",
      "nbconvert_exporter": "python",
      "pygments_lexer": "ipython3",
      "version": "3.9.6"
    }
  },
  "cells": [
    {
      "cell_type": "markdown",
      "metadata": {
        "id": "view-in-github",
        "colab_type": "text"
      },
      "source": [
        "<a href=\"https://colab.research.google.com/github/mironafanasenko/pogect/blob/main/%D0%9C%D0%B8%D1%80%D0%BE%D0%BD_%D0%90%D1%84%D0%B0%D0%BD%D0%B0%D1%81%D0%B5%D0%BD%D0%BA%D0%BE_project1.ipynb\" target=\"_parent\"><img src=\"https://colab.research.google.com/assets/colab-badge.svg\" alt=\"Open In Colab\"/></a>"
      ]
    },
    {
      "cell_type": "markdown",
      "metadata": {
        "id": "R4JgDAcNbmku"
      },
      "source": [
        "\n",
        "# Занятие 31. Домашнее задание. Работа над проектами\n",
        "\n"
      ]
    },
    {
      "cell_type": "markdown",
      "source": [
        "## Описание проекта\n",
        "**Название проекта** - Киноаналитик\n",
        "\n",
        " **Цель** — получить полную аналитику популярности фильмов, в зависимости от жанра, времени их выхода и популярности. Предсказание наидолеее популярных жанров в будущем.\n",
        "\n",
        "\n",
        "**Введение**: \n",
        "\n",
        "\n",
        "**Актуальность** : проэкт крайне полезен стриминговым сревисам, т.к. давно многие из них покупают права на фильмы до премьеры. \n",
        "\n",
        "**Целевая аудитория** : стриминговые сервисы\n",
        "\n",
        "**Обзор аналогов и прототипов**: аналогов нет\n",
        "\n",
        "**Выбор инструментальных средств**: питон для анализа данных\n",
        "\n",
        "\n",
        " **Сроки**  — дата начала проекта и дата его окончания  \n",
        "\n",
        "        График выполнения проекта\n",
        "\n",
        " **Ресурсы:**\n",
        "\n",
        "\n",
        "\n",
        "\n",
        "\n",
        "\n"
      ],
      "metadata": {
        "id": "NJVxVndPgZIJ"
      }
    },
    {
      "cell_type": "markdown",
      "source": [],
      "metadata": {
        "id": "rlwrxYPP6nNR"
      }
    },
    {
      "cell_type": "markdown",
      "source": [
        "## Аннотация  проекта\n",
        "\n",
        "При составлении аннотации придерживайтесь плана:\n",
        "\n",
        "**Название**Киноаналитик; \n",
        "\n",
        "**Описание** разработанный алгоритм будет анализировать популярность различных жанров фильмов в разное время и на основе полученных данных составлять прогноз на будущее; \n",
        "\n",
        "**Технологии в проекте**; библиотеки numpy, pandas, math, sklearn.metrics. \n",
        "\n",
        "**Специфика**, необходимость тщательной работы с данными\n",
        "\n",
        "\n"
      ],
      "metadata": {
        "id": "x6MfQtQP6Zuc"
      }
    },
    {
      "cell_type": "markdown",
      "source": [],
      "metadata": {
        "id": "1ketzUlH6lOq"
      }
    }
  ]
}